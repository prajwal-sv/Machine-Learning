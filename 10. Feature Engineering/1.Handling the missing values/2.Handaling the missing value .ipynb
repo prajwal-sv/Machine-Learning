{
 "cells": [
  {
   "cell_type": "code",
   "execution_count": 1,
   "id": "3cd2b5b2",
   "metadata": {},
   "outputs": [
    {
     "name": "stdout",
     "output_type": "stream",
     "text": [
      "Sample DataFrame:\n",
      "   School ID     Name         Address         City  Subject  Marks  Rank Grade\n",
      "0      101.0    Alice     123 Main St  Los Angeles     Math   85.0     2     B\n",
      "1      102.0      Bob     456 Oak Ave     New York  English   92.0     1     A\n",
      "2      103.0  Charlie     789 Pine Ln      Houston  Science   78.0     4     C\n",
      "3        NaN    David      101 Elm St  Los Angeles     Math   89.0     3     B\n",
      "4      105.0      Eva             NaN        Miami  History    NaN     8     D\n",
      "5      106.0    Frank    222 Maple Rd          NaN     Math   95.0     1     A\n",
      "6      107.0    Grace  444 Cedar Blvd      Houston  Science   80.0     5     C\n",
      "7      108.0    Henry    555 Birch Dr     New York  English   88.0     3     B\n"
     ]
    }
   ],
   "source": [
    "import pandas as pd\n",
    "import numpy as np\n",
    "\n",
    "data = {\n",
    "    'School ID': [101, 102, 103, np.nan, 105, 106, 107, 108],\n",
    "    'Name': ['Alice', 'Bob', 'Charlie', 'David', 'Eva', 'Frank', 'Grace', 'Henry'],\n",
    "    'Address': ['123 Main St', '456 Oak Ave', '789 Pine Ln', '101 Elm St', np.nan, '222 Maple Rd', '444 Cedar Blvd', '555 Birch Dr'],\n",
    "    'City': ['Los Angeles', 'New York', 'Houston', 'Los Angeles', 'Miami', np.nan, 'Houston', 'New York'],\n",
    "    'Subject': ['Math', 'English', 'Science', 'Math', 'History', 'Math', 'Science', 'English'],\n",
    "    'Marks': [85, 92, 78, 89, np.nan, 95, 80, 88],\n",
    "    'Rank': [2, 1, 4, 3, 8, 1, 5, 3],\n",
    "    'Grade': ['B', 'A', 'C', 'B', 'D', 'A', 'C', 'B']\n",
    "}\n",
    "\n",
    "df = pd.DataFrame(data)\n",
    "print(\"Sample DataFrame:\")\n",
    "\n",
    "print(df)"
   ]
  },
  {
   "cell_type": "markdown",
   "id": "98a42adf",
   "metadata": {},
   "source": [
    "1. Removing Rows with Missing Values\n",
    " Removing rows with missing values is a simple and straightforward method to handle missing data, used when we want to keep our analysis clean and minimize complexity.\n",
    "\n",
    "    Advantages:\n",
    "    Simple and efficient: It’s easy to implement and quickly removes data points with missing values.   \n",
    "    Cleans data: It removes potentially problematic data points, ensuring that only complete rows remain in the dataset.\n",
    "    \n",
    "    Disadvantages:\n",
    "    Reduces sample size: When rows are removed, the overall dataset shrinks which can affect the power and accuracy of our analysis.Potential bias: If missing data is not random (e.g if certain groups are more likely to have missing values) removing rows could introduce bias."
   ]
  },
  {
   "cell_type": "code",
   "execution_count": 2,
   "id": "4584aab7",
   "metadata": {},
   "outputs": [
    {
     "data": {
      "text/html": [
       "<div>\n",
       "<style scoped>\n",
       "    .dataframe tbody tr th:only-of-type {\n",
       "        vertical-align: middle;\n",
       "    }\n",
       "\n",
       "    .dataframe tbody tr th {\n",
       "        vertical-align: top;\n",
       "    }\n",
       "\n",
       "    .dataframe thead th {\n",
       "        text-align: right;\n",
       "    }\n",
       "</style>\n",
       "<table border=\"1\" class=\"dataframe\">\n",
       "  <thead>\n",
       "    <tr style=\"text-align: right;\">\n",
       "      <th></th>\n",
       "      <th>School ID</th>\n",
       "      <th>Name</th>\n",
       "      <th>Address</th>\n",
       "      <th>City</th>\n",
       "      <th>Subject</th>\n",
       "      <th>Marks</th>\n",
       "      <th>Rank</th>\n",
       "      <th>Grade</th>\n",
       "    </tr>\n",
       "  </thead>\n",
       "  <tbody>\n",
       "    <tr>\n",
       "      <th>0</th>\n",
       "      <td>101.0</td>\n",
       "      <td>Alice</td>\n",
       "      <td>123 Main St</td>\n",
       "      <td>Los Angeles</td>\n",
       "      <td>Math</td>\n",
       "      <td>85.0</td>\n",
       "      <td>2</td>\n",
       "      <td>B</td>\n",
       "    </tr>\n",
       "    <tr>\n",
       "      <th>1</th>\n",
       "      <td>102.0</td>\n",
       "      <td>Bob</td>\n",
       "      <td>456 Oak Ave</td>\n",
       "      <td>New York</td>\n",
       "      <td>English</td>\n",
       "      <td>92.0</td>\n",
       "      <td>1</td>\n",
       "      <td>A</td>\n",
       "    </tr>\n",
       "    <tr>\n",
       "      <th>2</th>\n",
       "      <td>103.0</td>\n",
       "      <td>Charlie</td>\n",
       "      <td>789 Pine Ln</td>\n",
       "      <td>Houston</td>\n",
       "      <td>Science</td>\n",
       "      <td>78.0</td>\n",
       "      <td>4</td>\n",
       "      <td>C</td>\n",
       "    </tr>\n",
       "    <tr>\n",
       "      <th>6</th>\n",
       "      <td>107.0</td>\n",
       "      <td>Grace</td>\n",
       "      <td>444 Cedar Blvd</td>\n",
       "      <td>Houston</td>\n",
       "      <td>Science</td>\n",
       "      <td>80.0</td>\n",
       "      <td>5</td>\n",
       "      <td>C</td>\n",
       "    </tr>\n",
       "    <tr>\n",
       "      <th>7</th>\n",
       "      <td>108.0</td>\n",
       "      <td>Henry</td>\n",
       "      <td>555 Birch Dr</td>\n",
       "      <td>New York</td>\n",
       "      <td>English</td>\n",
       "      <td>88.0</td>\n",
       "      <td>3</td>\n",
       "      <td>B</td>\n",
       "    </tr>\n",
       "  </tbody>\n",
       "</table>\n",
       "</div>"
      ],
      "text/plain": [
       "   School ID     Name         Address         City  Subject  Marks  Rank Grade\n",
       "0      101.0    Alice     123 Main St  Los Angeles     Math   85.0     2     B\n",
       "1      102.0      Bob     456 Oak Ave     New York  English   92.0     1     A\n",
       "2      103.0  Charlie     789 Pine Ln      Houston  Science   78.0     4     C\n",
       "6      107.0    Grace  444 Cedar Blvd      Houston  Science   80.0     5     C\n",
       "7      108.0    Henry    555 Birch Dr     New York  English   88.0     3     B"
      ]
     },
     "execution_count": 2,
     "metadata": {},
     "output_type": "execute_result"
    }
   ],
   "source": [
    "#In this example, we are removing rows with missing values from the original DataFrame (df) using the dropna() method and then displaying the cleaned DataFrame (df_cleaned).\n",
    "\n",
    "\n",
    "df_cleaned =  df.dropna()\n",
    "\n",
    "df_cleaned\n",
    "\n"
   ]
  },
  {
   "cell_type": "markdown",
   "id": "ee1a652c",
   "metadata": {},
   "source": [
    "2. Imputation Methods\n",
    "    2.1 Mean, Median and Mode Imputation:\n",
    "\n",
    "    This method involves replacing missing values with the mean, median or mode of the relevant variable. It's a simple approach but it doesn't account for the relationships between variables.\n",
    "\n",
    "    In this example, we are explaining the imputation techniques for handling missing values in the 'Marks' column of the DataFrame (df). It calculates and fills missing values with the mean, median and mode of the existing values in that column and then prints the results for observation.\n",
    "\n",
    "        df['Marks'].fillna(df['Marks'].mean()): Fills missing values in the 'Marks' column with the mean value.\n",
    "        df['Marks'].fillna(df['Marks'].median()): Fills missing values in the 'Marks' column with the median value.\n",
    "        df['Marks'].fillna(df['Marks'].mode(): Fills missing values in the 'Marks' column with the mode value.\n",
    "        .iloc[0]: Accesses the first element of the Series which represents the mode."
   ]
  },
  {
   "cell_type": "code",
   "execution_count": 6,
   "id": "7dc107c6",
   "metadata": {},
   "outputs": [
    {
     "name": "stdout",
     "output_type": "stream",
     "text": [
      "\n",
      "Imputation using Mean:\n",
      "0    85.000000\n",
      "1    92.000000\n",
      "2    78.000000\n",
      "3    89.000000\n",
      "4    86.714286\n",
      "5    95.000000\n",
      "6    80.000000\n",
      "7    88.000000\n",
      "Name: Marks, dtype: float64\n",
      "\n",
      "Imputation using Median:\n",
      "0    85.000000\n",
      "1    92.000000\n",
      "2    78.000000\n",
      "3    89.000000\n",
      "4    86.714286\n",
      "5    95.000000\n",
      "6    80.000000\n",
      "7    88.000000\n",
      "Name: Marks, dtype: float64\n",
      "\n",
      "Imputation using Mode:\n",
      "0    85.000000\n",
      "1    92.000000\n",
      "2    78.000000\n",
      "3    89.000000\n",
      "4    86.714286\n",
      "5    95.000000\n",
      "6    80.000000\n",
      "7    88.000000\n",
      "Name: Marks, dtype: float64\n"
     ]
    }
   ],
   "source": [
    "mean_imputaion = df['Marks'].fillna(df['Marks'].mean())\n",
    "median_imputaion = df['Marks'].fillna(df['Marks'].mean())\n",
    "mode_imputaion = df['Marks'].fillna(df['Marks'].mean())\n",
    "print(\"\\nImputation using Mean:\")\n",
    "print(mean_imputaion)\n",
    "\n",
    "print(\"\\nImputation using Median:\")\n",
    "print(median_imputaion)\n",
    "\n",
    "print(\"\\nImputation using Mode:\")\n",
    "print(mode_imputaion)"
   ]
  },
  {
   "cell_type": "markdown",
   "id": "3483ae11",
   "metadata": {},
   "source": [
    "2.2 Forward and Backward Fill\n",
    "\n",
    "    Forward and backward fill techniques are used to replace missing values by filling them with the nearest non-missing values from the same column. This is useful when there’s an inherent order or sequence in the data.\n",
    "\n",
    "    The method parameter in fillna() allows to specify the filling strategy.\n",
    "\n",
    "    df['Marks'].fillna(method='ffill'): This method fills missing values in the 'Marks' column of the DataFrame (df) using a forward fill strategy. It replaces missing values with the last observed non-missing value in the column.\n",
    "    df['Marks'].fillna(method='bfill'): This method fills missing values in the 'Marks' column using a backward fill strategy. It replaces missing values with the next observed non-missing value in the column."
   ]
  },
  {
   "cell_type": "code",
   "execution_count": 11,
   "id": "20809e19",
   "metadata": {},
   "outputs": [
    {
     "name": "stdout",
     "output_type": "stream",
     "text": [
      "\n",
      "Forward Fill:\n",
      "0    85.0\n",
      "1    92.0\n",
      "2    78.0\n",
      "3    89.0\n",
      "4    89.0\n",
      "5    95.0\n",
      "6    80.0\n",
      "7    88.0\n",
      "Name: Marks, dtype: float64\n",
      "\n",
      "Backward Fill:\n",
      "0    85.0\n",
      "1    92.0\n",
      "2    78.0\n",
      "3    89.0\n",
      "4    95.0\n",
      "5    95.0\n",
      "6    80.0\n",
      "7    88.0\n",
      "Name: Marks, dtype: float64\n"
     ]
    }
   ],
   "source": [
    "forward_fill = df['Marks'].ffill()\n",
    "backward_fill = df['Marks'].bfill()\n",
    "\n",
    "print(\"\\nForward Fill:\")\n",
    "print(forward_fill)\n",
    "\n",
    "print(\"\\nBackward Fill:\")\n",
    "print(backward_fill)"
   ]
  },
  {
   "cell_type": "markdown",
   "id": "608c4005",
   "metadata": {},
   "source": [
    "3. Interpolation Techniques :\n",
    "    Interpolation is a technique used to estimate missing values based on the values of surrounding data points. Unlike simpler imputation methods (e.g mean, median, mode), interpolation uses the relationship between neighboring values to make more informed estimations.\n",
    "\n",
    "    The interpolate() method in pandas are divided into Linear and Quadratic.\n",
    "\n",
    "    df['Marks'].interpolate(method='linear'): This method performs linear interpolation on the 'Marks' column of the DataFrame (df).\n",
    "    df['Marks'].interpolate(method='quadratic'): This method performs quadratic interpolation on the 'Marks' column.\n",
    "\n",
    "\n"
   ]
  },
  {
   "cell_type": "code",
   "execution_count": 14,
   "id": "5c3e55bc",
   "metadata": {},
   "outputs": [
    {
     "name": "stdout",
     "output_type": "stream",
     "text": [
      "\n",
      "Linear Interpolation:\n",
      "0    85.0\n",
      "1    92.0\n",
      "2    78.0\n",
      "3    89.0\n",
      "4    92.0\n",
      "5    95.0\n",
      "6    80.0\n",
      "7    88.0\n",
      "Name: Marks, dtype: float64\n",
      "\n",
      "Quadratic Interpolation:\n",
      "0    85.00000\n",
      "1    92.00000\n",
      "2    78.00000\n",
      "3    89.00000\n",
      "4    98.28024\n",
      "5    95.00000\n",
      "6    80.00000\n",
      "7    88.00000\n",
      "Name: Marks, dtype: float64\n"
     ]
    }
   ],
   "source": [
    "linear_interpolation = df['Marks'].interpolate(method='linear')\n",
    "quadratic_interpolation = df['Marks'].interpolate(method='quadratic')\n",
    "\n",
    "print(\"\\nLinear Interpolation:\")\n",
    "print(linear_interpolation)\n",
    "\n",
    "print(\"\\nQuadratic Interpolation:\")\n",
    "print(quadratic_interpolation)"
   ]
  }
 ],
 "metadata": {
  "kernelspec": {
   "display_name": "Python 3",
   "language": "python",
   "name": "python3"
  },
  "language_info": {
   "codemirror_mode": {
    "name": "ipython",
    "version": 3
   },
   "file_extension": ".py",
   "mimetype": "text/x-python",
   "name": "python",
   "nbconvert_exporter": "python",
   "pygments_lexer": "ipython3",
   "version": "3.10.16"
  }
 },
 "nbformat": 4,
 "nbformat_minor": 5
}
