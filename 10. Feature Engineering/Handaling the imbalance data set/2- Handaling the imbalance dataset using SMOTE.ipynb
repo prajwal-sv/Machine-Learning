{
 "cells": [
  {
   "cell_type": "markdown",
   "id": "10aa21e3",
   "metadata": {},
   "source": [
    "SEMOTE - synthetic minority oversampling technique"
   ]
  },
  {
   "cell_type": "markdown",
   "id": "0063fee8",
   "metadata": {},
   "source": []
  }
 ],
 "metadata": {
  "language_info": {
   "name": "python"
  }
 },
 "nbformat": 4,
 "nbformat_minor": 5
}
