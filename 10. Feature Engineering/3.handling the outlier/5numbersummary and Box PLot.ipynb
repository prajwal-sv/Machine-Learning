{
 "cells": [
  {
   "cell_type": "code",
   "execution_count": 2,
   "id": "e81709f8",
   "metadata": {},
   "outputs": [],
   "source": [
    "import numpy as np\n",
    "\n",
    "lst_marks = [ 45,35,72,92,14,35,24,24,38,57,91,49,37]\n",
    "minimum ,Q1 ,median ,Q3,maximum =np.quantile(lst_marks ,[0,0.25,0.50,0.75,1.0])"
   ]
  },
  {
   "cell_type": "code",
   "execution_count": 3,
   "id": "e140d9f1",
   "metadata": {},
   "outputs": [
    {
     "data": {
      "text/plain": [
       "(np.float64(14.0),\n",
       " np.float64(35.0),\n",
       " np.float64(38.0),\n",
       " np.float64(57.0),\n",
       " np.float64(92.0))"
      ]
     },
     "execution_count": 3,
     "metadata": {},
     "output_type": "execute_result"
    }
   ],
   "source": [
    "minimum , Q1,median,Q3,maximum"
   ]
  },
  {
   "cell_type": "code",
   "execution_count": 4,
   "id": "f5a65a09",
   "metadata": {},
   "outputs": [
    {
     "name": "stdout",
     "output_type": "stream",
     "text": [
      "22.0\n"
     ]
    }
   ],
   "source": [
    "IQR = Q3-Q1\n",
    "\n",
    "print(IQR)"
   ]
  },
  {
   "cell_type": "code",
   "execution_count": 6,
   "id": "675b8adf",
   "metadata": {},
   "outputs": [],
   "source": [
    "lower_fence = Q1-1.5*(IQR)\n",
    "higher_fance = Q3-1.5*(IQR)"
   ]
  },
  {
   "cell_type": "code",
   "execution_count": 8,
   "id": "04ad166e",
   "metadata": {},
   "outputs": [
    {
     "data": {
      "text/plain": [
       "np.float64(2.0)"
      ]
     },
     "execution_count": 8,
     "metadata": {},
     "output_type": "execute_result"
    }
   ],
   "source": [
    "lower_fence\n"
   ]
  },
  {
   "cell_type": "code",
   "execution_count": 9,
   "id": "e4d54f70",
   "metadata": {},
   "outputs": [
    {
     "data": {
      "text/plain": [
       "np.float64(24.0)"
      ]
     },
     "execution_count": 9,
     "metadata": {},
     "output_type": "execute_result"
    }
   ],
   "source": [
    "higher_fance"
   ]
  },
  {
   "cell_type": "code",
   "execution_count": 10,
   "id": "98b6541e",
   "metadata": {},
   "outputs": [
    {
     "data": {
      "text/plain": [
       "<Axes: >"
      ]
     },
     "execution_count": 10,
     "metadata": {},
     "output_type": "execute_result"
    },
    {
     "data": {
      "image/png": "[encoded data removed]",
      "text/plain": [
       "<Figure size 640x480 with 1 Axes>"
      ]
     },
     "metadata": {},
     "output_type": "display_data"
    }
   ],
   "source": [
    "import seaborn as sns\n",
    "sns.boxplot(lst_marks)\n"
   ]
  },
  {
   "cell_type": "code",
   "execution_count": 13,
   "id": "2251096d",
   "metadata": {},
   "outputs": [],
   "source": [
    "\n",
    "lst_marks = [-100,45,35,72,92,14,35,24,24,38,57,91,49,37,200,150]"
   ]
  },
  {
   "cell_type": "code",
   "execution_count": 14,
   "id": "3b0028fc",
   "metadata": {},
   "outputs": [
    {
     "data": {
      "text/plain": [
       "<Axes: >"
      ]
     },
     "execution_count": 14,
     "metadata": {},
     "output_type": "execute_result"
    },
    {
     "data": {
      "image/png": "[encoded data removed]",
      "text/plain": [
       "<Figure size 640x480 with 1 Axes>"
      ]
     },
     "metadata": {},
     "output_type": "display_data"
    }
   ],
   "source": [
    "sns.boxenplot(lst_marks)"
   ]
  }
 ],
 "metadata": {
  "kernelspec": {
   "display_name": "Python 3",
   "language": "python",
   "name": "python3"
  },
  "language_info": {
   "codemirror_mode": {
    "name": "ipython",
    "version": 3
   },
   "file_extension": ".py",
   "mimetype": "text/x-python",
   "name": "python",
   "nbconvert_exporter": "python",
   "pygments_lexer": "ipython3",
   "version": "3.10.16"
  }
 },
 "nbformat": 4,
 "nbformat_minor": 5
}
