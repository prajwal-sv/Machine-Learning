{
 "cells": [
  {
   "cell_type": "code",
   "execution_count": 1,
   "id": "1204d29a",
   "metadata": {},
   "outputs": [
    {
     "name": "stdout",
     "output_type": "stream",
     "text": [
      "hello world\n"
     ]
    }
   ],
   "source": [
    "print(\"hello world\")"
   ]
  },
  {
   "cell_type": "code",
   "execution_count": 4,
   "id": "09c21072",
   "metadata": {},
   "outputs": [
    {
     "name": "stdout",
     "output_type": "stream",
     "text": [
      "30\n",
      "-10\n",
      "200\n",
      "0.5\n"
     ]
    }
   ],
   "source": [
    "a = 10\n",
    "b = 20\n",
    "print(a + b)\n",
    "print(a-b)\n",
    "print(a * b)\n",
    "print(a / b)\n"
   ]
  },
  {
   "cell_type": "code",
   "execution_count": 6,
   "id": "ee5ce64b",
   "metadata": {},
   "outputs": [
    {
     "name": "stdout",
     "output_type": "stream",
     "text": [
      "nishant tarvekar\n"
     ]
    }
   ],
   "source": [
    "name= \"nishant\"\n",
    "last_name = \"tarvekar\"\n",
    "print(name + \" \" + last_name)"
   ]
  },
  {
   "cell_type": "code",
   "execution_count": 8,
   "id": "e7d84f06",
   "metadata": {},
   "outputs": [
    {
     "data": {
      "text/plain": [
       "bool"
      ]
     },
     "execution_count": 8,
     "metadata": {},
     "output_type": "execute_result"
    }
   ],
   "source": [
    "a = True \n",
    "\n",
    "type(a)"
   ]
  },
  {
   "cell_type": "code",
   "execution_count": 9,
   "id": "96dd3731",
   "metadata": {},
   "outputs": [
    {
     "name": "stdout",
     "output_type": "stream",
     "text": [
      "32\n"
     ]
    }
   ],
   "source": [
    "a = 2 \n",
    "b =5 \n",
    "# Exponentiation\n",
    "print(a ** b)"
   ]
  },
  {
   "cell_type": "code",
   "execution_count": 14,
   "id": "10f9656c",
   "metadata": {},
   "outputs": [
    {
     "name": "stdout",
     "output_type": "stream",
     "text": [
      "8\n"
     ]
    }
   ],
   "source": [
    "\n",
    "\n",
    "\n",
    "x = 5\n",
    "x = x +3\n",
    "print(x)"
   ]
  },
  {
   "cell_type": "code",
   "execution_count": 18,
   "id": "1c495091",
   "metadata": {},
   "outputs": [
    {
     "name": "stdout",
     "output_type": "stream",
     "text": [
      "3\n"
     ]
    }
   ],
   "source": [
    "mylist = [1, 2, 3, 4, 5]\n",
    "\n",
    "print(mylist[2])  # Accessing the first element"
   ]
  },
  {
   "cell_type": "code",
   "execution_count": 22,
   "id": "0d4ed3af",
   "metadata": {},
   "outputs": [
    {
     "name": "stdout",
     "output_type": "stream",
     "text": [
      "['1', 'apple', 'banana', 'cherry', 'apple', 'banana', 'cherry']\n"
     ]
    }
   ],
   "source": [
    "fruits = [\"1\",\"apple\", \"banana\", \"cherry\",\"apple\", \"banana\", \"cherry\"]\n",
    "print(fruits)  # Accessing the first element"
   ]
  },
  {
   "cell_type": "code",
   "execution_count": 21,
   "id": "b26909c1",
   "metadata": {},
   "outputs": [
    {
     "name": "stdout",
     "output_type": "stream",
     "text": [
      "6\n"
     ]
    }
   ],
   "source": [
    "print(len(fruits))  # Length of the list"
   ]
  },
  {
   "cell_type": "code",
   "execution_count": 23,
   "id": "c2144dbe",
   "metadata": {},
   "outputs": [
    {
     "name": "stdout",
     "output_type": "stream",
     "text": [
      "['1', 'apple', 'banana', 'cherry', 'apple', 'banana', 'cherry', 'orange']\n"
     ]
    }
   ],
   "source": [
    "fruits.append(\"orange\")  # Adding an element\n",
    "print(fruits)  # Accessing the first element"
   ]
  },
  {
   "cell_type": "code",
   "execution_count": 24,
   "id": "ea531110",
   "metadata": {},
   "outputs": [
    {
     "name": "stdout",
     "output_type": "stream",
     "text": [
      "['1', 'apple', 'cherry', 'apple', 'banana', 'cherry', 'orange']\n"
     ]
    }
   ],
   "source": [
    "fruits.remove(\"banana\")  # Removing an element\n",
    "print(fruits)  # Accessing the first element"
   ]
  },
  {
   "cell_type": "code",
   "execution_count": 25,
   "id": "7ac56703",
   "metadata": {},
   "outputs": [
    {
     "name": "stdout",
     "output_type": "stream",
     "text": [
      "['1', 'kiwi', 'apple', 'cherry', 'apple', 'banana', 'cherry', 'orange']\n"
     ]
    }
   ],
   "source": [
    "fruits.insert(1, \"kiwi\")  # Inserting an element at a specific position\n",
    "print(fruits)  # Accessing the first element"
   ]
  },
  {
   "cell_type": "code",
   "execution_count": 26,
   "id": "ec4b2e75",
   "metadata": {},
   "outputs": [
    {
     "name": "stdout",
     "output_type": "stream",
     "text": [
      "['1', 'kiwi', 'apple', 'cherry', 'apple', 'banana', 'cherry', 'orange', 1, 2, 3, 4, 5]\n"
     ]
    }
   ],
   "source": [
    "joined_list = fruits + mylist  # Concatenating two lists\n",
    "print(joined_list)  # Accessing the first element"
   ]
  },
  {
   "cell_type": "code",
   "execution_count": 28,
   "id": "12a0b2b0",
   "metadata": {},
   "outputs": [
    {
     "name": "stdout",
     "output_type": "stream",
     "text": [
      "(1, 2, 3, 4, 5)\n"
     ]
    }
   ],
   "source": [
    "tuple_example = (1, 2, 3, 4, 5)  # Creating a tuple\n",
    "print(tuple_example)  # Accessing the first element of the tuple"
   ]
  },
  {
   "cell_type": "code",
   "execution_count": 31,
   "id": "db03e65e",
   "metadata": {},
   "outputs": [
    {
     "name": "stdout",
     "output_type": "stream",
     "text": [
      "('apple', 'apple', 'banana', 'cherry', 1, 2, 3)\n"
     ]
    }
   ],
   "source": [
    "tuple_example = (\"apple\",\"apple\", \"banana\", \"cherry\",1,2,3)  # Creating a tuple\n",
    "print(tuple_example)  # Accessing the first element of the tuple"
   ]
  },
  {
   "cell_type": "code",
   "execution_count": 32,
   "id": "2c3aed38",
   "metadata": {},
   "outputs": [
    {
     "name": "stdout",
     "output_type": "stream",
     "text": [
      "{1, 2, 3, 4, 5}\n"
     ]
    }
   ],
   "source": [
    "#set\n",
    "\n",
    "set_example = {1, 2, 3, 4, 5}  # Creating a set\n",
    "print(set_example)  # Accessing the set"
   ]
  },
  {
   "cell_type": "code",
   "execution_count": 36,
   "id": "fed5a59b",
   "metadata": {},
   "outputs": [
    {
     "name": "stdout",
     "output_type": "stream",
     "text": [
      "{1, 2, 3, 'banana', 'apple', 'cherry'}\n"
     ]
    }
   ],
   "source": [
    "set_example = {\"apple\" ,\"apple\",1, \"banana\", \"cherry\", 1, 2, 3}  # Creating a set with mixed types\n",
    "print(set_example)  # Accessing the set with mixed types"
   ]
  },
  {
   "cell_type": "code",
   "execution_count": 39,
   "id": "1788721b",
   "metadata": {},
   "outputs": [
    {
     "name": "stdout",
     "output_type": "stream",
     "text": [
      "{'name': 'Nishant', 'last_name': 'Tarvekar', 'age': 25, 'city': 'Pune'}\n"
     ]
    }
   ],
   "source": [
    "#dictionary\n",
    "nishant = {\n",
    "    \"name\": \"Nishant\",\n",
    "    \"last_name\": \"Tarvekar\",\n",
    "    \"age\": 25,\n",
    "    \"city\": \"Pune\"\n",
    "}\n",
    "print(nishant)  # Accessing the dictionary"
   ]
  },
  {
   "cell_type": "code",
   "execution_count": 40,
   "id": "7966acb0",
   "metadata": {},
   "outputs": [
    {
     "name": "stdout",
     "output_type": "stream",
     "text": [
      "Nishant\n"
     ]
    }
   ],
   "source": [
    "name =  nishant[\"name\"]  # Accessing a value by key\n",
    "print(name)  # Accessing the name value"
   ]
  },
  {
   "cell_type": "code",
   "execution_count": 42,
   "id": "00e96a94",
   "metadata": {},
   "outputs": [
    {
     "name": "stdout",
     "output_type": "stream",
     "text": [
      "{'name': 'Nishant', 'last_name': 'Tarvekar', 'age': 26, 'city': 'Pune'}\n"
     ]
    }
   ],
   "source": [
    "nishant[\"age\"] = 26  # Modifying a value\n",
    "print(nishant)  # Accessing the modified dictionary"
   ]
  },
  {
   "cell_type": "code",
   "execution_count": 43,
   "id": "018600af",
   "metadata": {},
   "outputs": [
    {
     "name": "stdout",
     "output_type": "stream",
     "text": [
      "{'name': 'Nishant', 'last_name': 'Tarvekar', 'city': 'Pune'}\n"
     ]
    }
   ],
   "source": [
    "nishant.pop(\"age\")  # Removing a key-value pair\n",
    "print(nishant)  # Accessing the dictionary after removal"
   ]
  },
  {
   "cell_type": "code",
   "execution_count": 45,
   "id": "34a18cdd",
   "metadata": {},
   "outputs": [
    {
     "name": "stdout",
     "output_type": "stream",
     "text": [
      "You are a minor\n"
     ]
    }
   ],
   "source": [
    "age = 17 \n",
    "\n",
    "if age>=18:\n",
    "    print(\"You are an adult\")\n",
    "else:\n",
    "    print(\"You are a minor\")"
   ]
  },
  {
   "cell_type": "code",
   "execution_count": 46,
   "id": "4b97e16b",
   "metadata": {},
   "outputs": [
    {
     "name": "stdout",
     "output_type": "stream",
     "text": [
      "Above ten,\n",
      "but not above 20.\n"
     ]
    }
   ],
   "source": [
    "age = 19\n",
    "\n",
    "if age > 10:\n",
    "  print(\"Above ten,\")\n",
    "  if age > 20:\n",
    "    print(\"and also above 20!\")\n",
    "  else:\n",
    "    print(\"but not above 20.\")"
   ]
  }
 ],
 "metadata": {
  "kernelspec": {
   "display_name": "Python 3",
   "language": "python",
   "name": "python3"
  },
  "language_info": {
   "codemirror_mode": {
    "name": "ipython",
    "version": 3
   },
   "file_extension": ".py",
   "mimetype": "text/x-python",
   "name": "python",
   "nbconvert_exporter": "python",
   "pygments_lexer": "ipython3",
   "version": "3.10.16"
  }
 },
 "nbformat": 4,
 "nbformat_minor": 5
}
