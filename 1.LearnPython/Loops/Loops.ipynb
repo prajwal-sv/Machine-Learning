{
 "cells": [
  {
   "cell_type": "code",
   "execution_count": 3,
   "id": "a1675737",
   "metadata": {},
   "outputs": [
    {
     "name": "stdout",
     "output_type": "stream",
     "text": [
      "0\n",
      "1\n",
      "2\n",
      "3\n",
      "4\n",
      "5\n",
      "6\n",
      "7\n",
      "8\n",
      "9\n",
      "   \n",
      "0\n",
      "2\n",
      "4\n",
      "6\n",
      "8\n"
     ]
    }
   ],
   "source": [
    "# loops in Python\n",
    "# for loop\n",
    "# while loop\n",
    "# break and continue statements\n",
    "\n",
    "\n",
    "#range function\n",
    "range(10)  # generates numbers from 0 to 9\n",
    "\n",
    "# for loop\n",
    "for i in range(10):\n",
    "    print(i)  # prints numbers from 0 to 9\n",
    "print(\"   \")\n",
    "# for loop with a step\n",
    "for i in range(0, 10, 2):\n",
    "    print(i)  # prints even numbers from 0 to 8\n",
    "\n",
    "\n"
   ]
  },
  {
   "cell_type": "code",
   "execution_count": 5,
   "id": "667e7f56",
   "metadata": {},
   "outputs": [
    {
     "name": "stdout",
     "output_type": "stream",
     "text": [
      "0\n",
      "1\n",
      "2\n",
      "3\n",
      "4\n",
      "5\n",
      "6\n",
      "7\n",
      "8\n",
      "9\n",
      "   \n",
      "0\n",
      "2\n",
      "4\n",
      "6\n",
      "8\n",
      "   \n",
      "0\n",
      "1\n",
      "2\n",
      "3\n",
      "4\n",
      "   \n",
      "i: 0, j: 0\n",
      "i: 0, j: 1\n",
      "i: 1, j: 0\n",
      "i: 1, j: 1\n",
      "i: 2, j: 0\n",
      "i: 2, j: 1\n"
     ]
    }
   ],
   "source": [
    "#while loop\n",
    "i = 0\n",
    "while i < 10:\n",
    "    print(i)  # prints numbers from 0 to 9\n",
    "    i += 1  # increment i by 1  \n",
    "print(\"   \")\n",
    "# while loop with a condition\n",
    "i = 0\n",
    "while i < 10:\n",
    "    if i % 2 == 0:  # check if i is even\n",
    "        print(i)  # prints even numbers from 0 to 8\n",
    "    i += 1  # increment i by 1\n",
    "print(\"   \")\n",
    "# break statement\n",
    "i = 0\n",
    "while i < 10:\n",
    "    if i == 5:  # when i is 5, break the loop\n",
    "        break\n",
    "    print(i)  # prints numbers from 0 to 4\n",
    "    i += 1  # increment i by 1\n",
    "print(\"   \")\n",
    "\n",
    "# nested loops\n",
    "for i in range(3):  # outer loop\n",
    "    for j in range(2):  # inner loop\n",
    "        print(f\"i: {i}, j: {j}\")  # prints combinations of i and j\n",
    "\n"
   ]
  },
  {
   "cell_type": "code",
   "execution_count": 6,
   "id": "3f4ded93",
   "metadata": {},
   "outputs": [
    {
     "name": "stdout",
     "output_type": "stream",
     "text": [
      "0\n",
      "1\n",
      "2\n",
      "3\n",
      "4\n",
      "6\n",
      "7\n",
      "8\n",
      "9\n",
      "   \n"
     ]
    }
   ],
   "source": [
    "# continue statement\n",
    "i = 0\n",
    "while i < 10:\n",
    "    if i == 5:  # when i is 5, continue the loop\n",
    "        i += 1  # increment i before continue to avoid infinite loop\n",
    "        continue\n",
    "    print(i)  # prints numbers from 0 to 9 except 5\n",
    "    i += 1  # increment i by 1\n",
    "print(\"   \")"
   ]
  }
 ],
 "metadata": {
  "kernelspec": {
   "display_name": "Python 3",
   "language": "python",
   "name": "python3"
  },
  "language_info": {
   "codemirror_mode": {
    "name": "ipython",
    "version": 3
   },
   "file_extension": ".py",
   "mimetype": "text/x-python",
   "name": "python",
   "nbconvert_exporter": "python",
   "pygments_lexer": "ipython3",
   "version": "3.10.16"
  }
 },
 "nbformat": 4,
 "nbformat_minor": 5
}
