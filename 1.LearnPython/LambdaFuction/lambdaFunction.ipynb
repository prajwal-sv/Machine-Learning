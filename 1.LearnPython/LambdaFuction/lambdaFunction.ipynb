{
 "cells": [
  {
   "cell_type": "code",
   "execution_count": null,
   "id": "38942e46",
   "metadata": {},
   "outputs": [
    {
     "name": "stdout",
     "output_type": "stream",
     "text": [
      "Add two numbers using normal function:  15\n",
      "Add two numbers using lambda function:  15\n"
     ]
    }
   ],
   "source": [
    "# Lambda Fuction in Python \n",
    "# lamda fuction  is a small anonymous function\n",
    "# lambda arguments : expression\n",
    "# lambda fuction can take any number of arguments but can have only one expression\n",
    "# lambda fuction is used to create small anonymous functions\n",
    "\n",
    "#fuction to add two numbers\n",
    "def add(x, y):\n",
    "    return x + y\n",
    "#fuction to multiply two numbers\n",
    "print(\"Add two numbers using normal function: \", add(5, 10))\n",
    " \n",
    "#fuction to add two numbers using lambda function\n",
    "add_lambda = lambda x, y: x + y\n",
    "print(\"Add two numbers using lambda function: \", add_lambda(5, 10))\n",
    "\n",
    "\n",
    "#explaining the code : # 1. We define a normal function `add` that takes two arguments and returns their sum.\n",
    "# 2. We then create a lambda function `add_lambda` that does the same thing.\n",
    "# 3. Finally, we call the `add` and `add_lambda` functions with different arguments and print the results.  "
   ]
  }
 ],
 "metadata": {
  "kernelspec": {
   "display_name": "Python 3",
   "language": "python",
   "name": "python3"
  },
  "language_info": {
   "codemirror_mode": {
    "name": "ipython",
    "version": 3
   },
   "file_extension": ".py",
   "mimetype": "text/x-python",
   "name": "python",
   "nbconvert_exporter": "python",
   "pygments_lexer": "ipython3",
   "version": "3.10.16"
  }
 },
 "nbformat": 4,
 "nbformat_minor": 5
}
