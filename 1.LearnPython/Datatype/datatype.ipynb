{
 "cells": [
  {
   "cell_type": "code",
   "execution_count": 1,
   "id": "295738d1",
   "metadata": {},
   "outputs": [
    {
     "name": "stdout",
     "output_type": "stream",
     "text": [
      "10\n",
      "<class 'int'>\n",
      "10.5\n",
      "<class 'float'>\n",
      "Hello, World!\n",
      "<class 'str'>\n",
      "True\n",
      "<class 'bool'>\n",
      "[1, 2, 3, 4, 5]\n",
      "<class 'list'>\n",
      "(1, 2, 3, 4, 5)\n",
      "<class 'tuple'>\n",
      "{1, 2, 3, 4, 5}\n",
      "<class 'set'>\n",
      "{'name': 'John', 'age': 30, 'city': 'New York'}\n",
      "<class 'dict'>\n",
      "None\n",
      "<class 'NoneType'>\n",
      "(3+4j)\n",
      "<class 'complex'>\n",
      "b'Hello'\n",
      "<class 'bytes'>\n"
     ]
    }
   ],
   "source": [
    "#DataType in Python\n",
    "#integer, Float, String, Boolean, List, Tuple, Set, Dictionary\n",
    "#Integer\n",
    "a = 10\n",
    "print(a)\n",
    "print(type(a))\n",
    "#Float\n",
    "b = 10.5\n",
    "print(b)\n",
    "print(type(b))\n",
    "#String \n",
    "c = \"Hello, World!\"\n",
    "print(c)\n",
    "print(type(c))\n",
    "#Boolean\n",
    "d = True\n",
    "print(d)\n",
    "print(type(d))\n",
    "#List\n",
    "e = [1, 2, 3, 4, 5]\n",
    "print(e)\n",
    "print(type(e))\n",
    "#Tuple\n",
    "f = (1, 2, 3, 4, 5)\n",
    "print(f)\n",
    "print(type(f))\n",
    "#Set\n",
    "g = {1, 2, 3, 4, 5}\n",
    "print(g)\n",
    "print(type(g))\n",
    "#Dictionary\n",
    "h = {\"name\": \"John\", \"age\": 30, \"city\": \"New York\"}\n",
    "print(h)\n",
    "print(type(h))\n",
    "#NoneType\n",
    "i = None\n",
    "print(i)\n",
    "print(type(i))\n",
    "#Complex Number\n",
    "j = 3 + 4j\n",
    "print(j)\n",
    "print(type(j))\n",
    "#Bytes\n",
    "k = b\"Hello\"\n",
    "print(k)\n",
    "print(type(k))"
   ]
  }
 ],
 "metadata": {
  "kernelspec": {
   "display_name": "Python 3",
   "language": "python",
   "name": "python3"
  },
  "language_info": {
   "codemirror_mode": {
    "name": "ipython",
    "version": 3
   },
   "file_extension": ".py",
   "mimetype": "text/x-python",
   "name": "python",
   "nbconvert_exporter": "python",
   "pygments_lexer": "ipython3",
   "version": "3.10.16"
  }
 },
 "nbformat": 4,
 "nbformat_minor": 5
}
