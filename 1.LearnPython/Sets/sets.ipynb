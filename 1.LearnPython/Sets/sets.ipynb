{
 "cells": [
  {
   "cell_type": "code",
   "execution_count": 1,
   "id": "cf23d91e",
   "metadata": {},
   "outputs": [
    {
     "name": "stdout",
     "output_type": "stream",
     "text": [
      "True\n",
      "1\n",
      "2\n",
      "3\n",
      "5\n",
      "6\n"
     ]
    }
   ],
   "source": [
    "#Sets in python\n",
    "#Sets are unordered collections of unique elements\n",
    "#Creating a set\n",
    "my_set = {1, 2, 3, 4, 5}\n",
    "#Adding elements to a set\n",
    "my_set.add(6)\n",
    "#Removing elements from a set\n",
    "my_set.remove(4)\n",
    "#Checking if an element is in the set\n",
    "print(3 in my_set) # Output: True\n",
    "#Iterating through a set\n",
    "for element in my_set:\n",
    "    print(element)\n",
    "\n"
   ]
  },
  {
   "cell_type": "code",
   "execution_count": 2,
   "id": "21197cea",
   "metadata": {},
   "outputs": [
    {
     "name": "stdout",
     "output_type": "stream",
     "text": [
      "Set methods:\n",
      "Union: {1, 2, 3, 5, 6, 7, 8}\n",
      "Intersection: {3}\n",
      "Difference: {1, 2, 5, 6}\n",
      "Symmetric Difference: {1, 2, 4, 5, 6}\n"
     ]
    }
   ],
   "source": [
    "#methods available for sets\n",
    "print(\"Set methods:\")\n",
    "print(\"Union:\", my_set.union({7, 8}))  # Union of sets\n",
    "print(\"Intersection:\", my_set.intersection({3, 4}))  # Intersection of sets\n",
    "print(\"Difference:\", my_set.difference({3, 4}))  # Difference of sets\n",
    "print(\"Symmetric Difference:\", my_set.symmetric_difference({3, 4}))  # Symmetric difference of sets"
   ]
  }
 ],
 "metadata": {
  "kernelspec": {
   "display_name": "Python 3",
   "language": "python",
   "name": "python3"
  },
  "language_info": {
   "codemirror_mode": {
    "name": "ipython",
    "version": 3
   },
   "file_extension": ".py",
   "mimetype": "text/x-python",
   "name": "python",
   "nbconvert_exporter": "python",
   "pygments_lexer": "ipython3",
   "version": "3.10.16"
  }
 },
 "nbformat": 4,
 "nbformat_minor": 5
}
