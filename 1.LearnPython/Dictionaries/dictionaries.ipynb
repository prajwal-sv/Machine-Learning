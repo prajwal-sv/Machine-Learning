{
 "cells": [
  {
   "cell_type": "code",
   "execution_count": 1,
   "id": "a1d0fc30",
   "metadata": {},
   "outputs": [
    {
     "name": "stdout",
     "output_type": "stream",
     "text": [
      "Name: Alice\n",
      "Age: 25\n",
      "City: New York\n",
      "Updated Dictionary: {'name': 'Alice', 'age': 25, 'city': 'New York', 'job': 'Engineer'}\n",
      "After Deletion: {'name': 'Alice', 'city': 'New York', 'job': 'Engineer'}\n",
      "Name exists in the dictionary\n",
      "name: Alice\n",
      "city: New York\n",
      "job: Engineer\n"
     ]
    }
   ],
   "source": [
    "# Dictionaries in Python\n",
    "# A dictionary is a collection of key-value pairs\n",
    "# Each key is unique and maps to a value\n",
    "# Example of a dictionary\n",
    "my_dict = {\n",
    "    \"name\": \"Alice\",\n",
    "    \"age\": 25,  \n",
    "    \"city\": \"New York\"\n",
    "}\n",
    "\n",
    "# Accessing values in a dictionary\n",
    "print(\"Name:\", my_dict[\"name\"])  # Output: Alice\n",
    "print(\"Age:\", my_dict[\"age\"])    # Output: 25\n",
    "print(\"City:\", my_dict[\"city\"])  # Output: New York \n",
    "\n",
    "\n",
    "# Adding a new key-value pair\n",
    "my_dict[\"job\"] = \"Engineer\"\n",
    "print(\"Updated Dictionary:\", my_dict)\n",
    "# Output: Updated Dictionary: {'name': 'Alice', 'age': 25, 'city': 'New York', 'job': 'Engineer'}\n",
    "\n",
    "# Removing a key-value pair\n",
    "del my_dict[\"age\"]\n",
    "print(\"After Deletion:\", my_dict)\n",
    "# Output: After Deletion: {'name': 'Alice', 'city': 'New York', 'job': 'Engineer'}\n",
    "\n",
    "#checking if a key exists\n",
    "if \"name\" in my_dict:\n",
    "    print(\"Name exists in the dictionary\")\n",
    "else:\n",
    "    print(\"Name does not exist in the dictionary\")\n",
    "\n",
    "# Iterating through a dictionary\n",
    "for key, value in my_dict.items():\n",
    "    print(f\"{key}: {value}\")\n",
    "# Output:\n",
    "# name: Alice\n",
    "# city: New York\n",
    "# job: Engineer "
   ]
  },
  {
   "cell_type": "code",
   "execution_count": 2,
   "id": "8960d447",
   "metadata": {},
   "outputs": [
    {
     "name": "stdout",
     "output_type": "stream",
     "text": [
      "Keys: dict_keys(['name', 'city', 'job'])\n",
      "Values: dict_values(['Alice', 'New York', 'Engineer'])\n",
      "Items: dict_items([('name', 'Alice'), ('city', 'New York'), ('job', 'Engineer')])\n",
      "Copied Dictionary: {'name': 'Alice', 'city': 'New York', 'job': 'Engineer'}\n",
      "Merged Dictionary: {'name': 'Alice', 'city': 'New York', 'job': 'Engineer', 'country': 'USA', 'hobby': 'Reading'}\n",
      "Cleared Dictionary: {}\n"
     ]
    }
   ],
   "source": [
    "#methods available for dictionaries\n",
    "print(\"Keys:\", my_dict.keys())  # Output: Keys: dict_keys(['name', 'city', 'job'])\n",
    "\n",
    "print(\"Values:\", my_dict.values())  # Output: Values: dict_values(['Alice', 'New York', 'Engineer'])\n",
    "print(\"Items:\", my_dict.items())  # Output: Items: dict_items([('name', 'Alice'), ('city', 'New York'), ('job', 'Engineer')])\n",
    "\n",
    "# Copying a dictionary\n",
    "new_dict = my_dict.copy()\n",
    "print(\"Copied Dictionary:\", new_dict)\n",
    "# Output: Copied Dictionary: {'name': 'Alice', 'city': 'New York', 'job': 'Engineer'}\n",
    "\n",
    "# Merging dictionaries\n",
    "another_dict = {\"country\": \"USA\", \"hobby\": \"Reading\"}\n",
    "my_dict.update(another_dict)\n",
    "print(\"Merged Dictionary:\", my_dict)\n",
    "# Output: Merged Dictionary: {'name': 'Alice', 'city': 'New York', 'job': 'Engineer', 'country': 'USA', 'hobby': 'Reading'}\n",
    "# Clearing a dictionary\n",
    "my_dict.clear()\n",
    "print(\"Cleared Dictionary:\", my_dict)\n",
    "\n",
    "# Output: Cleared Dictionary: {}\n"
   ]
  }
 ],
 "metadata": {
  "kernelspec": {
   "display_name": "Python 3",
   "language": "python",
   "name": "python3"
  },
  "language_info": {
   "codemirror_mode": {
    "name": "ipython",
    "version": 3
   },
   "file_extension": ".py",
   "mimetype": "text/x-python",
   "name": "python",
   "nbconvert_exporter": "python",
   "pygments_lexer": "ipython3",
   "version": "3.10.16"
  }
 },
 "nbformat": 4,
 "nbformat_minor": 5
}
