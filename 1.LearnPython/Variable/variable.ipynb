{
 "cells": [
  {
   "cell_type": "code",
   "execution_count": 1,
   "id": "9afe5b38",
   "metadata": {},
   "outputs": [
    {
     "name": "stdout",
     "output_type": "stream",
     "text": [
      "10\n",
      "20\n",
      "1 2 3\n",
      "<class 'int'>\n",
      "Hello, World!\n",
      "<class 'str'>\n",
      "3.14159\n",
      "78.5\n"
     ]
    }
   ],
   "source": [
    "#Variable \n",
    "#define a variable\n",
    "my_variable = 10\n",
    "print(my_variable)  # Output: 10\n",
    "#reassign a variable\n",
    "my_variable = 20\n",
    "print(my_variable)  # Output: 20\n",
    "#multiple assignment\n",
    "x, y, z = 1, 2, 3\n",
    "print(x, y, z)  # Output: 1 2 3\n",
    "#type of variable\n",
    "print(type(my_variable))  # Output: <class 'int'>\n",
    "#dynamic typing\n",
    "my_variable = \"Hello, World!\"\n",
    "print(my_variable)  # Output: Hello, World!\n",
    "#type of variable after reassignment\n",
    "print(type(my_variable))  # Output: <class 'str'>\n",
    "#constants\n",
    "PI = 3.14159\n",
    "print(PI)  # Output: 3.14159    \n",
    "#reassigning a constant (not recommended)\n",
    "PI = 3.14  # This is not recommended, but Python allows it\n",
    "# Output: 3.14\n",
    "#using constants in calculations\n",
    "area_of_circle = PI * (5 ** 2)  # Area of a circle with radius 5\n",
    "print(area_of_circle)  # Output: 78.53975\n"
   ]
  },
  {
   "cell_type": "code",
   "execution_count": 4,
   "id": "0d557163",
   "metadata": {},
   "outputs": [
    {
     "name": "stdout",
     "output_type": "stream",
     "text": [
      "You entered: 5\n",
      "42\n",
      "42\n"
     ]
    }
   ],
   "source": [
    "#input from user\n",
    "user_input = input(\"Enter a number: \")\n",
    "#output the user input\n",
    "print(\"You entered:\", user_input)  # Output: You entered: <user input>\n",
    "\n",
    "\n",
    "#type conversion\n",
    "#convert string to integer\n",
    "number_str = \"42\"\n",
    "number_int = int(number_str)\n",
    "print(number_int)  # Output: 42\n",
    "#convert integer to string  \n",
    "number_int = 42\n",
    "number_str = str(number_int)    \n",
    "print(number_str)  # Output: 42     \n",
    "    "
   ]
  },
  {
   "cell_type": "code",
   "execution_count": 5,
   "id": "ad88632a",
   "metadata": {},
   "outputs": [
    {
     "name": "stdout",
     "output_type": "stream",
     "text": [
      "Addition: 10.0\n",
      "Subtraction: 0.0\n",
      "Multiplication: 25.0\n",
      "Division: 1.0\n"
     ]
    }
   ],
   "source": [
    "#Calulator program\n",
    "#input from user\n",
    "num1 = float(input(\"Enter the first number: \"))\n",
    "num2 = float(input(\"Enter the second number: \"))\n",
    "#perform operations\n",
    "addition = num1 + num2\n",
    "subtraction = num1 - num2\n",
    "multiplication = num1 * num2\n",
    "division = num1 / num2\n",
    "#output results\n",
    "print(\"Addition:\", addition)\n",
    "print(\"Subtraction:\", subtraction)\n",
    "print(\"Multiplication:\", multiplication)\n",
    "print(\"Division:\", division)\n",
    "#end of calculator program\n"
   ]
  }
 ],
 "metadata": {
  "kernelspec": {
   "display_name": "Python 3",
   "language": "python",
   "name": "python3"
  },
  "language_info": {
   "codemirror_mode": {
    "name": "ipython",
    "version": 3
   },
   "file_extension": ".py",
   "mimetype": "text/x-python",
   "name": "python",
   "nbconvert_exporter": "python",
   "pygments_lexer": "ipython3",
   "version": "3.10.16"
  }
 },
 "nbformat": 4,
 "nbformat_minor": 5
}
