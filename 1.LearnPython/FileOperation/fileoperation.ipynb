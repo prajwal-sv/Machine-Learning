{
 "cells": [
  {
   "cell_type": "code",
   "execution_count": null,
   "id": "889eba0a",
   "metadata": {},
   "outputs": [],
   "source": [
    "#File opertion in Python \n",
    "#Reading the File \n",
    "with open(\"example.txt\", \"r\") as file:\n",
    "\tcontent =  file.read() \n",
    "\tprint(content)\n"
   ]
  },
  {
   "cell_type": "code",
   "execution_count": null,
   "id": "c446be21",
   "metadata": {},
   "outputs": [],
   "source": [
    "#overwriting the file content \n",
    "\n",
    "with open(\"example.txt \",\"w\") as file : \n",
    "    file.write(\"My name is prajwal \\n\") \n",
    "    file.write(\"hellow :)  \")\n"
   ]
  },
  {
   "cell_type": "code",
   "execution_count": null,
   "id": "271a22c1",
   "metadata": {},
   "outputs": [],
   "source": [
    "#writing the file without overwriting the File  using append mode : \n",
    "\n",
    "with open(\"example.txt\",\"a\") as file : \n",
    "    file.write(\"apppend was excuted\")"
   ]
  },
  {
   "cell_type": "code",
   "execution_count": 23,
   "id": "4afdb371",
   "metadata": {},
   "outputs": [
    {
     "name": "stdout",
     "output_type": "stream",
     "text": [
      "line 1line 2\n"
     ]
    }
   ],
   "source": [
    "#writing and then reading the file \n",
    "with open(\"example.txt\",\"w+\") as file : \n",
    "    file.write(\"line 1\")\n",
    "    file.write(\"line 2\")\n",
    "\n",
    "    file.seek(0)\n",
    "    content = file.read()\n",
    "    print(content)"
   ]
  },
  {
   "cell_type": "code",
   "execution_count": 24,
   "id": "934ef216",
   "metadata": {},
   "outputs": [
    {
     "name": "stdout",
     "output_type": "stream",
     "text": [
      "File copied successfully.\n"
     ]
    }
   ],
   "source": [
    "# Copying contents from one file to another\n",
    "with open(\"example.txt\", \"r\") as source_file:\n",
    "    data = source_file.read()\n",
    "\n",
    "with open(\"copy_example.txt\", \"w\") as dest_file:\n",
    "    dest_file.write(data)\n",
    "\n",
    "print(\"File copied successfully.\")"
   ]
  },
  {
   "cell_type": "code",
   "execution_count": 25,
   "id": "aa07f1f5",
   "metadata": {},
   "outputs": [
    {
     "name": "stdout",
     "output_type": "stream",
     "text": [
      "new dirctory pacakges created \n"
     ]
    }
   ],
   "source": [
    "#cerating new directory  \n",
    "import os as os\n",
    "new_dir = \"pacakges\"\n",
    "os.mkdir(new_dir)\n",
    "\n",
    "print(f\"new dirctory {new_dir} created \")"
   ]
  },
  {
   "cell_type": "code",
   "execution_count": 26,
   "id": "5808d411",
   "metadata": {},
   "outputs": [
    {
     "name": "stdout",
     "output_type": "stream",
     "text": [
      "['copy_example.txt', 'example.txt', 'fileoperation.ipynb', 'pacakges']\n"
     ]
    }
   ],
   "source": [
    "#listing all the file and directory \n",
    "\n",
    "item =  os.listdir(\".\")\n",
    "\n",
    "print(item)"
   ]
  },
  {
   "cell_type": "code",
   "execution_count": 28,
   "id": "b6ef45e4",
   "metadata": {},
   "outputs": [
    {
     "name": "stdout",
     "output_type": "stream",
     "text": [
      "newFolder\\newfile.txt\n"
     ]
    }
   ],
   "source": [
    "#joining the path\n",
    "\n",
    "folder = \"newFolder\"\n",
    "file   = \"newfile.txt\"\n",
    "\n",
    "path = os.path.join(folder,file)\n",
    "\n",
    "print(path)"
   ]
  }
 ],
 "metadata": {
  "kernelspec": {
   "display_name": "Python 3",
   "language": "python",
   "name": "python3"
  },
  "language_info": {
   "codemirror_mode": {
    "name": "ipython",
    "version": 3
   },
   "file_extension": ".py",
   "mimetype": "text/x-python",
   "name": "python",
   "nbconvert_exporter": "python",
   "pygments_lexer": "ipython3",
   "version": "3.10.16"
  }
 },
 "nbformat": 4,
 "nbformat_minor": 5
}
