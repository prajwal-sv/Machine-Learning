{
 "cells": [
  {
   "cell_type": "code",
   "execution_count": null,
   "id": "b8ebd070",
   "metadata": {},
   "outputs": [],
   "source": [
    "#Filter Functions in Python\n",
    "\n",
    "numbers = [1, 2, 3, 4, 5, 6, 7, 8, 9, 10]\n",
    "# Function to filter even numbers from a list\n",
    "def filter_even_numbers(numbers):\n",
    "    return list(filter(lambda x: x % 2 == 0, numbers))\n",
    "\n",
    "# calling the function\n",
    "even_numbers = filter_even_numbers(numbers)\n",
    "print(even_numbers)\n",
    "\n",
    "#Explanation:\n",
    "# The filter function applies a lambda function to each element in the list.\n",
    "# The lambda function checks if the element is even (divisible by 2) and returns True if it is, False otherwise.\n",
    "# The filter function then returns a new list containing only the elements that returned True from the lambda function. \n"
   ]
  }
 ],
 "metadata": {
  "language_info": {
   "name": "python"
  }
 },
 "nbformat": 4,
 "nbformat_minor": 5
}
