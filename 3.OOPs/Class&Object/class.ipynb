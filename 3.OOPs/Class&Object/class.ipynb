{
 "cells": [
  {
   "cell_type": "markdown",
   "id": "4b1a7a06",
   "metadata": {},
   "source": [
    "Object-Oriented Programming (OOP) is a programming paradigm based on the concept of \"objects,\" which can contain data (attributes) and code (methods). The main principles of OOP are:\n",
    "\n",
    "- **Encapsulation:** Bundling data and methods that operate on that data within a single unit (object), and restricting access to some of the object's components.\n",
    "- **Inheritance:** Mechanism by which one class can inherit properties and behaviors from another, promoting code reuse.\n",
    "- **Polymorphism:** Ability of different objects to respond to the same operation in different ways, typically through method overriding.\n",
    "- **Abstraction:** Hiding complex implementation details and showing only the necessary features of an object.\n",
    "\n",
    "OOP helps in organizing complex programs, making them easier to manage, extend, and maintain."
   ]
  },
  {
   "cell_type": "code",
   "execution_count": null,
   "id": "562cf268",
   "metadata": {
    "vscode": {
     "languageId": "markdown"
    }
   },
   "outputs": [],
   "source": [
    "In Python, a class is a blueprint for creating objects. It defines a set of attributes and methods that the created objects (instances) will have. In Object-Oriented Programming (OOP), a class encapsulates data for the object and methods to manipulate that data.\n",
    "\n",
    "Key points about classes in Python OOP:\n",
    "- **Encapsulation:** Classes bundle data (attributes) and functions (methods) together.\n",
    "- **Instantiation:** Objects are created from classes; each object is an instance of a class.\n",
    "- **Inheritance:** Classes can inherit attributes and methods from other classes, promoting code reuse.\n",
    "- **Polymorphism:** Classes can override methods to provide different behaviors for the same interface.\n",
    "- **Abstraction:** Classes can hide complex details and expose only necessary parts.\n"
   ]
  },
  {
   "cell_type": "code",
   "execution_count": null,
   "id": "98903c65",
   "metadata": {},
   "outputs": [
    {
     "name": "stdout",
     "output_type": "stream",
     "text": [
      "<class '__main__.car'>\n"
     ]
    }
   ],
   "source": [
    "#cerating the Class in python  \n",
    "\n",
    "class car : \n",
    "    pass\n",
    "\n",
    "Bmw = car();\n",
    "print(type(Bmw))"
   ]
  },
  {
   "cell_type": "code",
   "execution_count": null,
   "id": "7f710c3d",
   "metadata": {},
   "outputs": [],
   "source": []
  },
  {
   "cell_type": "code",
   "execution_count": 7,
   "id": "e68cba3b",
   "metadata": {
    "vscode": {
     "languageId": "ruby"
    }
   },
   "outputs": [
    {
     "name": "stdout",
     "output_type": "stream",
     "text": [
      "<__main__.Dog object at 0x000002983C80F2E0>\n",
      "jack\n",
      "7\n"
     ]
    }
   ],
   "source": [
    "# Instance methods are functions defined inside a class that operate on instances (objects) of that class.\n",
    "# They take 'self' as the first parameter, which refers to the specific object calling the method.\n",
    "# Instance variables are variables that are unique to each instance of a class.\n",
    "# They are usually defined inside methods using 'self', e.g., self.color = 'red'.\n",
    "# Each object can have different values for its instance variables.\n",
    "\n",
    "class Dog:\n",
    "    #construtor \n",
    "    def __init__( self ,name , age  ):\n",
    "        self.name =name \n",
    "        self.age = age \n",
    "\n",
    "\n",
    "    #objects\n",
    "dog1 = Dog(\"jack\",7)\n",
    "\n",
    "print(dog1)\n",
    "print(dog1.name)\n",
    "print(dog1.age)"
   ]
  },
  {
   "cell_type": "code",
   "execution_count": 4,
   "id": "63319e1e",
   "metadata": {
    "vscode": {
     "languageId": "ruby"
    }
   },
   "outputs": [
    {
     "name": "stdout",
     "output_type": "stream",
     "text": [
      "5000 is added in account\n"
     ]
    }
   ],
   "source": [
    "# Bank account modeling\n",
    "\n",
    "class bankAccount:\n",
    "    def __init__(self, owner, balance=0):\n",
    "        self.balance = balance\n",
    "        self.owner = owner\n",
    "\n",
    "    def deposit(self, amount):\n",
    "        self.balance += amount\n",
    "        print(f\"{amount} is added in account\")\n",
    "\n",
    "    def credit(self, amount):\n",
    "        if amount > self.balance:\n",
    "            print(\"insufficient fund\")\n",
    "        else:\n",
    "            self.balance -= amount\n",
    "\n",
    "    def get_balance(self):\n",
    "        return self.balance\n",
    "\n",
    "cos1 = bankAccount(\"prajwal\")\n",
    "cos1.deposit(5000)\n"
   ]
  },
  {
   "cell_type": "code",
   "execution_count": 5,
   "id": "717da876",
   "metadata": {
    "vscode": {
     "languageId": "ruby"
    }
   },
   "outputs": [
    {
     "data": {
      "text/plain": [
       "5000"
      ]
     },
     "execution_count": 5,
     "metadata": {},
     "output_type": "execute_result"
    }
   ],
   "source": [
    "cos1.get_balance()"
   ]
  },
  {
   "cell_type": "code",
   "execution_count": 6,
   "id": "8460ec5c",
   "metadata": {
    "vscode": {
     "languageId": "ruby"
    }
   },
   "outputs": [
    {
     "name": "stdout",
     "output_type": "stream",
     "text": [
      "1000000 is added in account\n"
     ]
    }
   ],
   "source": [
    "cos1.deposit(1000000)"
   ]
  },
  {
   "cell_type": "code",
   "execution_count": 9,
   "id": "13fc6100",
   "metadata": {
    "vscode": {
     "languageId": "ruby"
    }
   },
   "outputs": [
    {
     "data": {
      "text/plain": [
       "1005000"
      ]
     },
     "execution_count": 9,
     "metadata": {},
     "output_type": "execute_result"
    }
   ],
   "source": [
    "cos1.get_balance()"
   ]
  }
 ],
 "metadata": {
  "kernelspec": {
   "display_name": "Python 3",
   "language": "python",
   "name": "python3"
  },
  "language_info": {
   "codemirror_mode": {
    "name": "ipython",
    "version": 3
   },
   "file_extension": ".py",
   "mimetype": "text/x-python",
   "name": "python",
   "nbconvert_exporter": "python",
   "pygments_lexer": "ipython3",
   "version": "3.10.16"
  }
 },
 "nbformat": 4,
 "nbformat_minor": 5
}
