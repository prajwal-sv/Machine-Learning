{
 "cells": [
  {
   "cell_type": "code",
   "execution_count": 1,
   "id": "cc0f58a3",
   "metadata": {},
   "outputs": [
    {
     "name": "stdout",
     "output_type": "stream",
     "text": [
      "Bark\n",
      "Meow\n"
     ]
    }
   ],
   "source": [
    "# Abstraction in Python\n",
    "\n",
    "# Definition:\n",
    "# Abstraction is an object-oriented programming (OOP) concept that means hiding the complex implementation details\n",
    "# and showing only the essential features of an object.\n",
    "# It helps to reduce programming complexity and effort.\n",
    "# In Python, abstraction is often implemented using abstract classes and methods (with the abc module).\n",
    "\n",
    "from abc import ABC, abstractmethod\n",
    "\n",
    "# Abstract base class\n",
    "class Animal(ABC):\n",
    "    @abstractmethod\n",
    "    def sound(self):\n",
    "        # Abstract method (no implementation here)\n",
    "        pass\n",
    "\n",
    "# Derived class must implement the abstract method\n",
    "class Dog(Animal):\n",
    "    def sound(self):\n",
    "        return \"Bark\"\n",
    "\n",
    "class Cat(Animal):\n",
    "    def sound(self):\n",
    "        return \"Meow\"\n",
    "\n",
    "# Usage\n",
    "dog = Dog()\n",
    "cat = Cat()\n",
    "print(dog.sound())  # Output: Bark\n",
    "print(cat.sound())  # Output: Meow\n",
    "\n",
    "# Explanation:\n",
    "# - The Animal class is abstract and cannot be instantiated directly.\n",
    "# - Dog and Cat provide their own implementation of the sound() method.\n",
    "# - This hides the details of how sound is produced, showing only the interface."
   ]
  }
 ],
 "metadata": {
  "kernelspec": {
   "display_name": "Python 3",
   "language": "python",
   "name": "python3"
  },
  "language_info": {
   "codemirror_mode": {
    "name": "ipython",
    "version": 3
   },
   "file_extension": ".py",
   "mimetype": "text/x-python",
   "name": "python",
   "nbconvert_exporter": "python",
   "pygments_lexer": "ipython3",
   "version": "3.10.16"
  }
 },
 "nbformat": 4,
 "nbformat_minor": 5
}
