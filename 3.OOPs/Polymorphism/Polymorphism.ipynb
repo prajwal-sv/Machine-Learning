{
 "cells": [
  {
   "cell_type": "markdown",
   "id": "1fc53386",
   "metadata": {},
   "source": [
    "### Polymorphism is an Object-Oriented Programming (OOP) concept that allows objects of different classes to be treated as objects of a common superclass. It enables a single interface (such as a method name) to represent different underlying forms (data types or classes). In Python, polymorphism allows different classes to implement methods with the same name, and the correct method is called based on the object's class at runtime.\n",
    "\n",
    "Example:\n",
    "Both Dog and Cat classes can have a speak() method, and you can call speak() on any animal object without knowing its exact type."
   ]
  },
  {
   "cell_type": "code",
   "execution_count": 2,
   "id": "78928409",
   "metadata": {},
   "outputs": [
    {
     "name": "stdout",
     "output_type": "stream",
     "text": [
      "Area: 6\n",
      "Area: 78.5\n"
     ]
    }
   ],
   "source": [
    "# Polymorphism Example in Python\n",
    "\n",
    "# Base class\n",
    "class Shape:\n",
    "    def area(self):\n",
    "        # This method will be overridden by subclasses\n",
    "        return \"undefined\"\n",
    "\n",
    "# Subclass for rectangle\n",
    "class Rectangle(Shape):\n",
    "    def __init__(self, length, breadth):\n",
    "        self.length = length\n",
    "        self.breadth = breadth\n",
    "\n",
    "    def area(self):\n",
    "        # Override area method for rectangle\n",
    "        return self.length * self.breadth\n",
    "\n",
    "# Subclass for circle\n",
    "class Circle(Shape):\n",
    "    def __init__(self, radius):\n",
    "        self.radius = radius\n",
    "\n",
    "    def area(self):\n",
    "        # Override area method for circle\n",
    "        return 3.14 * self.radius ** 2\n",
    "\n",
    "# Create a list of shapes (demonstrates polymorphism)\n",
    "shapes = [Rectangle(2, 3), Circle(5)]\n",
    "\n",
    "# Loop through each shape and print its area\n",
    "for s in shapes:\n",
    "    print(f\"Area: {s.area()}\")  # Calls the correct area() method based on object type\n",
    "\n",
    "# Output:\n",
    "# Area: 6\n",
    "# Area: 78.5\n",
    "\n",
    "# --- Explanation ---\n",
    "# Polymorphism allows us to use the same method name (area) for different shapes.\n",
    "# The correct area() method is called depending on whether the object is a Rectangle or Circle."
   ]
  }
 ],
 "metadata": {
  "kernelspec": {
   "display_name": "Python 3",
   "language": "python",
   "name": "python3"
  },
  "language_info": {
   "codemirror_mode": {
    "name": "ipython",
    "version": 3
   },
   "file_extension": ".py",
   "mimetype": "text/x-python",
   "name": "python",
   "nbconvert_exporter": "python",
   "pygments_lexer": "ipython3",
   "version": "3.10.16"
  }
 },
 "nbformat": 4,
 "nbformat_minor": 5
}
