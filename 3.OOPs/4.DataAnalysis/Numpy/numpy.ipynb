{
 "cells": [
  {
   "cell_type": "code",
   "execution_count": 1,
   "id": "69332240",
   "metadata": {},
   "outputs": [
    {
     "name": "stdout",
     "output_type": "stream",
     "text": [
      "[1 2 3 4 5]\n"
     ]
    }
   ],
   "source": [
    "# Definition of NumPy\n",
    "\n",
    "# NumPy (Numerical Python) is a powerful open-source library in Python used for numerical and scientific computing.\n",
    "# It provides support for large, multi-dimensional arrays and matrices, along with a collection of mathematical functions to operate on these arrays efficiently.\n",
    "# NumPy is widely used in data analysis, machine learning, and scientific research due to its speed and versatility.\n",
    "\n",
    "import numpy as np\n",
    "\n",
    "# Example: Creating a NumPy array\n",
    "arr = np.array([1, 2, 3, 4, 5])\n",
    "print(arr)  # Output: [1 2 3 4 5]"
   ]
  },
  {
   "cell_type": "code",
   "execution_count": 2,
   "id": "ce4cbc4c",
   "metadata": {},
   "outputs": [
    {
     "name": "stdout",
     "output_type": "stream",
     "text": [
      "[[1 2 3]\n",
      " [4 5 6]]\n"
     ]
    }
   ],
   "source": [
    "#2D array\n",
    "\n",
    "arr2 = np.array([[1,2,3],[4,5,6]])\n",
    "\n",
    "print(arr2)"
   ]
  },
  {
   "cell_type": "code",
   "execution_count": 3,
   "id": "5d196948",
   "metadata": {},
   "outputs": [
    {
     "name": "stdout",
     "output_type": "stream",
     "text": [
      "2\n"
     ]
    }
   ],
   "source": [
    "#check number of Dimention \n",
    "\n",
    "print(arr2.ndim)"
   ]
  },
  {
   "cell_type": "code",
   "execution_count": 6,
   "id": "d1431584",
   "metadata": {},
   "outputs": [
    {
     "name": "stdout",
     "output_type": "stream",
     "text": [
      "1\n",
      "5\n"
     ]
    }
   ],
   "source": [
    "#Array indexing \n",
    "\n",
    "print(arr[0])\n",
    "\n",
    "print(arr2[1,1])"
   ]
  },
  {
   "cell_type": "code",
   "execution_count": 7,
   "id": "064f776c",
   "metadata": {},
   "outputs": [
    {
     "name": "stdout",
     "output_type": "stream",
     "text": [
      "[20 30 40]\n",
      "[10 20 30]\n",
      "[30 40 50 60]\n",
      "[10 30 50]\n"
     ]
    }
   ],
   "source": [
    "# Array slicing example in NumPy\n",
    "\n",
    "import numpy as np\n",
    "\n",
    "arr = np.array([10, 20, 30, 40, 50, 60])\n",
    "\n",
    "# Slicing elements from index 1 to 4 (excluding 4)\n",
    "print(arr[1:4])  # Output: [20 30 40]\n",
    "\n",
    "# Slicing from the beginning to index 3 (excluding 3)\n",
    "print(arr[:3])   # Output: [10 20 30]\n",
    "\n",
    "# Slicing from index 2 to the end\n",
    "print(arr[2:])   # Output: [30 40 50 60]\n",
    "\n",
    "# Slicing with a step of 2\n",
    "print(arr[::2])  # Output: [10 30 50]"
   ]
  },
  {
   "cell_type": "code",
   "execution_count": 1,
   "id": "f4bae73d",
   "metadata": {},
   "outputs": [
    {
     "name": "stdout",
     "output_type": "stream",
     "text": [
      "Addition: [11 22 33 44]\n",
      "Multiplication: [ 10  40  90 160]\n",
      "Square: [ 1  4  9 16]\n",
      "Square root: [3.16227766 4.47213595 5.47722558 6.32455532]\n"
     ]
    }
   ],
   "source": [
    "# Vectorized operations in NumPy\n",
    "\n",
    "# Vectorized operations allow you to perform element-wise operations on entire arrays without using explicit loops.\n",
    "# This makes computations faster and code more concise compared to standard Python lists.\n",
    "\n",
    "import numpy as np\n",
    "\n",
    "arr1 = np.array([1, 2, 3, 4])\n",
    "arr2 = np.array([10, 20, 30, 40])\n",
    "\n",
    "# Element-wise addition\n",
    "result_add = arr1 + arr2\n",
    "print(\"Addition:\", result_add)  # Output: [11 22 33 44]\n",
    "\n",
    "# Element-wise multiplication\n",
    "result_mul = arr1 * arr2\n",
    "print(\"Multiplication:\", result_mul)  # Output: [10 40 90 160]\n",
    "\n",
    "# Element-wise square\n",
    "result_square = arr1 ** 2\n",
    "print(\"Square:\", result_square)  # Output: [ 1  4  9 16]\n",
    "\n",
    "# Applying a function to all elements (e.g., np.sqrt)\n",
    "result_sqrt = np.sqrt(arr2)\n",
    "print(\"Square root:\", result_sqrt)  # Output: [3.16227766 4.47213595 5.47722558 6.32455532]"
   ]
  }
 ],
 "metadata": {
  "kernelspec": {
   "display_name": "Python 3",
   "language": "python",
   "name": "python3"
  },
  "language_info": {
   "codemirror_mode": {
    "name": "ipython",
    "version": 3
   },
   "file_extension": ".py",
   "mimetype": "text/x-python",
   "name": "python",
   "nbconvert_exporter": "python",
   "pygments_lexer": "ipython3",
   "version": "3.10.16"
  }
 },
 "nbformat": 4,
 "nbformat_minor": 5
}
