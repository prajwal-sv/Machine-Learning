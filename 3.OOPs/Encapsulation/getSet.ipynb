{
 "cells": [
  {
   "cell_type": "code",
   "execution_count": 1,
   "id": "e8d9d410",
   "metadata": {},
   "outputs": [
    {
     "name": "stdout",
     "output_type": "stream",
     "text": [
      "prajwal\n",
      "20\n",
      "nishant\n",
      "22\n"
     ]
    }
   ],
   "source": [
    "# This class demonstrates encapsulation using getter and setter methods\n",
    "\n",
    "class person:\n",
    "    def __init__(self, name, age):\n",
    "        # Private attributes (name mangling with double underscore)\n",
    "        self.__name = name\n",
    "        self.__age = age\n",
    "\n",
    "    def get_name(self):\n",
    "        # Getter method for name\n",
    "        return self.__name\n",
    "    \n",
    "    def set_name(self, name):\n",
    "        # Setter method for name\n",
    "        self.__name = name \n",
    "    \n",
    "    def get_age(self):\n",
    "        # Getter method for age\n",
    "        return self.__age\n",
    "    \n",
    "    def set_age(self, age):\n",
    "        # Setter method for age\n",
    "        self.__age = age\n",
    "\n",
    "# Create an object of person with initial values\n",
    "person = person(\"prajwal\", 20)\n",
    "print(person.get_name())  # Output: prajwal (accessing name using getter)\n",
    "print(person.get_age())   # Output: 20 (accessing age using getter)\n",
    "\n",
    "# Update the name and age using setter methods\n",
    "person.set_name(\"nishant\")\n",
    "person.set_age(22)\n",
    "\n",
    "print(person.get_name())  # Output: nishant (updated name)\n",
    "print(person.get_age())   # Output: 22 (updated age)"
   ]
  }
 ],
 "metadata": {
  "kernelspec": {
   "display_name": "Python 3",
   "language": "python",
   "name": "python3"
  },
  "language_info": {
   "codemirror_mode": {
    "name": "ipython",
    "version": 3
   },
   "file_extension": ".py",
   "mimetype": "text/x-python",
   "name": "python",
   "nbconvert_exporter": "python",
   "pygments_lexer": "ipython3",
   "version": "3.10.16"
  }
 },
 "nbformat": 4,
 "nbformat_minor": 5
}
