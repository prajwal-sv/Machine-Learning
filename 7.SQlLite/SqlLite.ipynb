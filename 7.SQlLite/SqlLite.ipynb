{
 "cells": [
  {
   "cell_type": "code",
   "execution_count": 3,
   "id": "0212b250",
   "metadata": {},
   "outputs": [],
   "source": [
    "import sqlite3\n",
    "\n",
    "connection = sqlite3.connect('example.db')\n"
   ]
  },
  {
   "cell_type": "code",
   "execution_count": 4,
   "id": "8da4db26",
   "metadata": {},
   "outputs": [],
   "source": [
    "\n",
    "# Create a cursor object to execute SQL commands\n",
    "cursor = connection.cursor()"
   ]
  },
  {
   "cell_type": "code",
   "execution_count": 5,
   "id": "3a28c476",
   "metadata": {},
   "outputs": [],
   "source": [
    "#ceate a table named 'users' with columns id, name, age, and department\n",
    "\n",
    "cursor.execute('''CREATE TABLE IF NOT EXISTS users (\n",
    "    id INTEGER PRIMARY KEY AUTOINCREMENT,   \n",
    "    name TEXT NOT NULL,\n",
    "    age INTEGER NOT NULL,\n",
    "    department TEXT NOT NULL\n",
    "               )''')\n",
    "\n",
    "connection.commit()"
   ]
  },
  {
   "cell_type": "code",
   "execution_count": 6,
   "id": "e6678aff",
   "metadata": {},
   "outputs": [],
   "source": [
    "# Insert a new user into the users table\n",
    "cursor.execute(''' \n",
    "select * from users\n",
    "               ''')\n",
    "\n",
    "\n",
    "connection.commit()"
   ]
  },
  {
   "cell_type": "code",
   "execution_count": 7,
   "id": "6d8e9d2d",
   "metadata": {},
   "outputs": [],
   "source": [
    "#inserting data\n",
    "cursor.execute('''INSERT INTO users (name, age, department) VALUES ('Alice', 30, 'HR')''')\n",
    "cursor.execute('''INSERT INTO users (name, age, department) VALUES ('Bob', 25, 'Engineering')''')\n",
    "cursor.execute('''INSERT INTO users (name, age, department) VALUES ('Charlie', 35, 'Marketing')''')\n",
    "\n",
    "connection.commit()"
   ]
  },
  {
   "cell_type": "code",
   "execution_count": 8,
   "id": "9575bd7b",
   "metadata": {},
   "outputs": [
    {
     "name": "stdout",
     "output_type": "stream",
     "text": [
      "(1, 'Alice', 31, 'HR')\n",
      "(2, 'Bob', 25, 'Engineering')\n",
      "(3, 'Charlie', 35, 'Marketing')\n",
      "(4, 'Alice', 30, 'HR')\n",
      "(5, 'Bob', 25, 'Engineering')\n",
      "(6, 'Charlie', 35, 'Marketing')\n"
     ]
    }
   ],
   "source": [
    "#querying data in the users table itself\n",
    "cursor.execute('''SELECT * FROM users''')\n",
    "row = cursor.fetchall()\n",
    "\n",
    "for r in row:\n",
    "    print(r)"
   ]
  },
  {
   "cell_type": "code",
   "execution_count": null,
   "id": "3c16754b",
   "metadata": {},
   "outputs": [],
   "source": [
    "#updating data in the users table\n",
    "cursor.execute('''UPDATE users SET age = 31 WHERE name = 'Alice' ''')\n",
    "\n",
    "\n",
    "\n",
    "connection.commit()"
   ]
  },
  {
   "cell_type": "code",
   "execution_count": 27,
   "id": "722e9dbf",
   "metadata": {},
   "outputs": [],
   "source": [
    "#deleting data in the users table\n",
    "cursor.execute('''DELETE FROM users WHERE name = 'Bob' ''')\n",
    "connection.commit()"
   ]
  },
  {
   "cell_type": "code",
   "execution_count": 31,
   "id": "7da71d68",
   "metadata": {},
   "outputs": [
    {
     "name": "stdout",
     "output_type": "stream",
     "text": [
      "(1, 'Alice', 31, 'HR')\n",
      "(3, 'Charlie', 35, 'Marketing')\n",
      "(4, 'Alice', 31, 'HR')\n",
      "(6, 'Charlie', 35, 'Marketing')\n"
     ]
    }
   ],
   "source": [
    "#querying data in the users table itself\n",
    "cursor.execute('''SELECT * FROM users''')\n",
    "row = cursor.fetchall()\n",
    "\n",
    "for r in row:\n",
    "    print(r)"
   ]
  },
  {
   "cell_type": "code",
   "execution_count": 32,
   "id": "ef91e134",
   "metadata": {},
   "outputs": [],
   "source": [
    " #close the connection\n",
    "connection.close()"
   ]
  }
 ],
 "metadata": {
  "kernelspec": {
   "display_name": "Python 3",
   "language": "python",
   "name": "python3"
  },
  "language_info": {
   "codemirror_mode": {
    "name": "ipython",
    "version": 3
   },
   "file_extension": ".py",
   "mimetype": "text/x-python",
   "name": "python",
   "nbconvert_exporter": "python",
   "pygments_lexer": "ipython3",
   "version": "3.10.16"
  }
 },
 "nbformat": 4,
 "nbformat_minor": 5
}
