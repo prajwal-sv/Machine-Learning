{
 "cells": [
  {
   "cell_type": "code",
   "execution_count": 2,
   "id": "cfbf557d",
   "metadata": {},
   "outputs": [
    {
     "name": "stdout",
     "output_type": "stream",
     "text": [
      "a + b = 30\n",
      "a - b = -10\n",
      "a * b = 200\n",
      "a / b = 0.5\n",
      "a // b = 0\n",
      "a % b = 10\n",
      "a ** b = 100000000000000000000\n",
      "a == b: False\n",
      "a != b: True\n",
      "a > b: False\n",
      "a < b: True\n",
      "a >= b: False\n",
      "a <= b: True\n",
      "a and b: 20\n",
      "a or b: 10\n",
      "not a: False\n",
      "a & b = 0\n",
      "a | b = 30\n",
      "a ^ b = 30\n",
      "a << 2 = 40\n",
      "a >> 2 = 2\n"
     ]
    }
   ],
   "source": [
    "#Operator \n",
    "a = 10\n",
    "b = 20\n",
    "# Arithmetic Operators\n",
    "print(\"a + b =\", a + b)  # Addition\n",
    "print(\"a - b =\", a - b)  # Subtraction\n",
    "print(\"a * b =\", a * b)  # Multiplication\n",
    "print(\"a / b =\", a / b)  # Division\n",
    "print(\"a // b =\", a // b)  # Floor division\n",
    "print(\"a % b =\", a % b)  # Modulo\n",
    "print(\"a ** b =\", a**b)  # Exponentiation   \n",
    "# Comparison Operators\n",
    "print(\"a == b:\", a == b)  # Equal to\n",
    "print(\"a != b:\", a != b)  # Not equal to\n",
    "print(\"a > b:\", a > b)    # Greater than    \n",
    "print(\"a < b:\", a < b)    # Less than\n",
    "print(\"a >= b:\", a >= b)  # Greater than or equal to\n",
    "print(\"a <= b:\", a <= b)  # Less than or equal to\n",
    "# Logical Operators\n",
    "print(\"a and b:\", a and b)  # Logical AND\n",
    "print(\"a or b:\", a or b)    # Logical OR\n",
    "print(\"not a:\", not a)      # Logical NOT   \n",
    "# Bitwise Operators\n",
    "print(\"a & b =\", a & b)  # Bitwise AND\n",
    "print(\"a | b =\", a | b)  # Bitwise OR\n",
    "print(\"a ^ b =\", a ^ b)  # Bitwise XOR\n",
    "print(\"a << 2 =\", a << 2)  # Bitwise left shift\n",
    "print(\"a >> 2 =\", a >> 2)  # Bitwise right shift\n",
    " "
   ]
  }
 ],
 "metadata": {
  "kernelspec": {
   "display_name": "Python 3",
   "language": "python",
   "name": "python3"
  },
  "language_info": {
   "codemirror_mode": {
    "name": "ipython",
    "version": 3
   },
   "file_extension": ".py",
   "mimetype": "text/x-python",
   "name": "python",
   "nbconvert_exporter": "python",
   "pygments_lexer": "ipython3",
   "version": "3.10.16"
  }
 },
 "nbformat": 4,
 "nbformat_minor": 5
}
