{
 "cells": [
  {
   "cell_type": "code",
   "execution_count": 4,
   "id": "ef98e020",
   "metadata": {},
   "outputs": [
    {
     "name": "stdout",
     "output_type": "stream",
     "text": [
      "John\n",
      "Doe\n"
     ]
    }
   ],
   "source": [
    "#Basic Syntax For Python \n",
    "\n",
    "#This is a comment\n",
    "\n",
    "#case sensitive\n",
    "name = \"John\"\n",
    "Name = \"Doe\"\n",
    "print(name)  # Output: John\n",
    "print(Name)  # Output: Doe\n"
   ]
  },
  {
   "cell_type": "code",
   "execution_count": 5,
   "id": "6167ec51",
   "metadata": {},
   "outputs": [
    {
     "name": "stdout",
     "output_type": "stream",
     "text": [
      "Adult\n",
      "This line is not part of the if block\n"
     ]
    }
   ],
   "source": [
    "#indentation\n",
    "#python uses indentation to define blocks of code\n",
    "age = 30\n",
    "if age > 18:\n",
    "    print(\"Adult\")  # This line is indented, part of the if block\n",
    "\n",
    "print(\"This line is not part of the if block\")  # This line is not indented, not part of the if block "
   ]
  },
  {
   "cell_type": "code",
   "execution_count": 8,
   "id": "149ad30b",
   "metadata": {},
   "outputs": [
    {
     "name": "stdout",
     "output_type": "stream",
     "text": [
      "10\n",
      "18\n"
     ]
    }
   ],
   "source": [
    "#line continuation\n",
    "#You can use a backslash to continue a line of code onto the next line\n",
    "a = 1 + 2 + \\\n",
    "    3 + 4\n",
    "print(a)  # Output: 10\n",
    "\n",
    "\n",
    "#multi-line statements\n",
    "x=5; y=6; z=7;z=x + y + z\n",
    "print(z)  # Output: 18\n",
    "#You can also use parentheses to create multi-line statements\n",
    "#This is a multi-line statement\n"
   ]
  },
  {
   "cell_type": "code",
   "execution_count": 9,
   "id": "c93f4c58",
   "metadata": {},
   "outputs": [
    {
     "name": "stdout",
     "output_type": "stream",
     "text": [
      "10 Hello 3.14 True None\n"
     ]
    },
    {
     "data": {
      "text/plain": [
       "NoneType"
      ]
     },
     "execution_count": 9,
     "metadata": {},
     "output_type": "execute_result"
    }
   ],
   "source": [
    "#understanding semantics\n",
    "#Semantics refers to the meaning of the code, not just its syntax\n",
    "#Python is a dynamically typed language\n",
    "\n",
    "a = 10  # a is an integer\n",
    "b = \"Hello\"  # b is a string\n",
    "c = 3.14  # c is a float\n",
    "d = True  # d is a boolean  \n",
    "e = None  # e is a special value called None    \n",
    "print(a, b, c, d, e)  # Output: 10 Hello 3.14 True None\n",
    "type(a)  # Output: <class 'int'>\n",
    "type(b)  # Output: <class 'str'>\n",
    "type(c)  # Output: <class 'float'>  \n",
    "type(d)  # Output: <class 'bool'>  \n",
    "type(e)  # Output: <class 'NoneType'>"
   ]
  },
  {
   "cell_type": "code",
   "execution_count": null,
   "id": "1c5f7d75",
   "metadata": {},
   "outputs": [],
   "source": []
  }
 ],
 "metadata": {
  "kernelspec": {
   "display_name": "Python 3",
   "language": "python",
   "name": "python3"
  },
  "language_info": {
   "codemirror_mode": {
    "name": "ipython",
    "version": 3
   },
   "file_extension": ".py",
   "mimetype": "text/x-python",
   "name": "python",
   "nbconvert_exporter": "python",
   "pygments_lexer": "ipython3",
   "version": "3.10.16"
  }
 },
 "nbformat": 4,
 "nbformat_minor": 5
}
