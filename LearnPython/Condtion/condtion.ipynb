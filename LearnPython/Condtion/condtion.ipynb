{
 "cells": [
  {
   "cell_type": "code",
   "execution_count": 1,
   "id": "55bb8982",
   "metadata": {},
   "outputs": [
    {
     "name": "stdout",
     "output_type": "stream",
     "text": [
      "a is greater than 5\n"
     ]
    }
   ],
   "source": [
    "# condtional statements\n",
    "# if, elif, else\n",
    "# for, while\n",
    "\n",
    "# if statement\n",
    "a = 10\n",
    "if a > 5:   \n",
    "    print(\"a is greater than 5\")  # Output: a is greater than 5\n",
    "#else statement\n",
    "else:\n",
    "    print(\"a is not greater than 5\")  # Output: a is not greater than 5"
   ]
  },
  {
   "cell_type": "code",
   "execution_count": 2,
   "id": "538a458e",
   "metadata": {},
   "outputs": [
    {
     "name": "stdout",
     "output_type": "stream",
     "text": [
      "b is less than 5\n"
     ]
    }
   ],
   "source": [
    "# elif statement\n",
    "b = 3\n",
    "if b > 5:\n",
    "    print(\"b is greater than 5\")  # Output: b is greater than 5\n",
    "elif b < 5:\n",
    "    print(\"b is less than 5\")  # Output: b is less than 5\n",
    "else:\n",
    "    print(\"b is equal to 5\")  # Output: b is equal to 5"
   ]
  },
  {
   "cell_type": "code",
   "execution_count": 3,
   "id": "627daba6",
   "metadata": {},
   "outputs": [
    {
     "name": "stdout",
     "output_type": "stream",
     "text": [
      "c is greater than 5\n",
      "c is also greater than 8\n"
     ]
    }
   ],
   "source": [
    "#nested if statements\n",
    "c = 10  \n",
    "if c > 5:\n",
    "    print(\"c is greater than 5\")  # Output: c is greater than 5\n",
    "    if c > 8:\n",
    "        print(\"c is also greater than 8\")  # Output: c is also greater than 8\n",
    "    else:\n",
    "        print(\"c is not greater than 8\")  # Output: c is not greater than 8\n",
    "else:   \n",
    "    print(\"c is not greater than 5\")  # Output: c is not greater than 5"
   ]
  }
 ],
 "metadata": {
  "kernelspec": {
   "display_name": "Python 3",
   "language": "python",
   "name": "python3"
  },
  "language_info": {
   "codemirror_mode": {
    "name": "ipython",
    "version": 3
   },
   "file_extension": ".py",
   "mimetype": "text/x-python",
   "name": "python",
   "nbconvert_exporter": "python",
   "pygments_lexer": "ipython3",
   "version": "3.10.16"
  }
 },
 "nbformat": 4,
 "nbformat_minor": 5
}
