{
 "cells": [
  {
   "cell_type": "code",
   "execution_count": 3,
   "id": "4d0d8357",
   "metadata": {},
   "outputs": [
    {
     "name": "stdout",
     "output_type": "stream",
     "text": [
      "[1, 4, 9, 16, 25]\n"
     ]
    }
   ],
   "source": [
    "# map fuction in python\n",
    "#basic example of using map function\n",
    "def main():\n",
    "    numbers = [1, 2, 3, 4, 5]\n",
    "    squares = list(map(square, numbers))\n",
    "    print(squares)\n",
    "def square(x):\n",
    "    \"\"\"Returns the square of x.\"\"\"\n",
    "    return x * x\n",
    "\n",
    "main()\n",
    "\n",
    "#map function applies the square function to each element in the numbers list\n",
    "# explaination:\n",
    "# The map function takes two arguments: a function and an iterable (like a list).\n",
    "# It applies the function to each item in the iterable and returns a map object.\n",
    "# The map object can be converted to a list or another iterable type.\n",
    "# In this case, we use the list() function to convert the map object to a list. \n"
   ]
  }
 ],
 "metadata": {
  "kernelspec": {
   "display_name": "Python 3",
   "language": "python",
   "name": "python3"
  },
  "language_info": {
   "codemirror_mode": {
    "name": "ipython",
    "version": 3
   },
   "file_extension": ".py",
   "mimetype": "text/x-python",
   "name": "python",
   "nbconvert_exporter": "python",
   "pygments_lexer": "ipython3",
   "version": "3.10.16"
  }
 },
 "nbformat": 4,
 "nbformat_minor": 5
}
