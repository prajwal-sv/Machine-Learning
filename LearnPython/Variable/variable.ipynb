{
 "cells": [
  {
   "cell_type": "code",
   "execution_count": 1,
   "id": "9afe5b38",
   "metadata": {},
   "outputs": [
    {
     "name": "stdout",
     "output_type": "stream",
     "text": [
      "10\n",
      "20\n",
      "1 2 3\n",
      "<class 'int'>\n",
      "Hello, World!\n",
      "<class 'str'>\n",
      "3.14159\n",
      "78.5\n"
     ]
    }
   ],
   "source": [
    "#Variable \n",
    "#define a variable\n",
    "my_variable = 10\n",
    "print(my_variable)  # Output: 10\n",
    "#reassign a variable\n",
    "my_variable = 20\n",
    "print(my_variable)  # Output: 20\n",
    "#multiple assignment\n",
    "x, y, z = 1, 2, 3\n",
    "print(x, y, z)  # Output: 1 2 3\n",
    "#type of variable\n",
    "print(type(my_variable))  # Output: <class 'int'>\n",
    "#dynamic typing\n",
    "my_variable = \"Hello, World!\"\n",
    "print(my_variable)  # Output: Hello, World!\n",
    "#type of variable after reassignment\n",
    "print(type(my_variable))  # Output: <class 'str'>\n",
    "#constants\n",
    "PI = 3.14159\n",
    "print(PI)  # Output: 3.14159    \n",
    "#reassigning a constant (not recommended)\n",
    "PI = 3.14  # This is not recommended, but Python allows it\n",
    "# Output: 3.14\n",
    "#using constants in calculations\n",
    "area_of_circle = PI * (5 ** 2)  # Area of a circle with radius 5\n",
    "print(area_of_circle)  # Output: 78.53975\n"
   ]
  }
 ],
 "metadata": {
  "kernelspec": {
   "display_name": "Python 3",
   "language": "python",
   "name": "python3"
  },
  "language_info": {
   "codemirror_mode": {
    "name": "ipython",
    "version": 3
   },
   "file_extension": ".py",
   "mimetype": "text/x-python",
   "name": "python",
   "nbconvert_exporter": "python",
   "pygments_lexer": "ipython3",
   "version": "3.10.16"
  }
 },
 "nbformat": 4,
 "nbformat_minor": 5
}
