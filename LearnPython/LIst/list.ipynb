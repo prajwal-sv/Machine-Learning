{
 "cells": [
  {
   "cell_type": "code",
   "execution_count": null,
   "id": "5128356d",
   "metadata": {},
   "outputs": [
    {
     "name": "stdout",
     "output_type": "stream",
     "text": [
      "Alice\n",
      "Bob\n",
      "Charlie\n",
      "David\n"
     ]
    }
   ],
   "source": [
    "#list iny python\n",
    "#Creating and iterating through a list\n",
    "names = ['Alice', 'Bob', 'Charlie', 'David']\n",
    "for name in names:\n",
    "    print(name) \n"
   ]
  },
  {
   "cell_type": "code",
   "execution_count": 2,
   "id": "0c79336a",
   "metadata": {},
   "outputs": [
    {
     "name": "stdout",
     "output_type": "stream",
     "text": [
      "Alice\n",
      "Charlie\n",
      "['Alice', 'Bobby', 'Charlie', 'David']\n",
      "['Alice', 'Bobby', 'Charlie', 'David', 'Eve']\n",
      "['Alice', 'Bobby', 'David', 'Eve']\n",
      "Eve\n",
      "3\n",
      "1\n",
      "True\n",
      "False\n"
     ]
    }
   ],
   "source": [
    "#accsessing elements in a list\n",
    "print(names[0])  # Output: Alice\n",
    "print(names[2])  # Output: Charlie\n",
    "\n",
    "#modifying elements in a list\n",
    "names[1] = 'Bobby'\n",
    "print(names)  # Output: ['Alice', 'Bobby', 'Charlie', 'David']\n",
    "\n",
    "#adding elements to a list\n",
    "names.append('Eve')\n",
    "print(names)  # Output: ['Alice', 'Bobby', 'Charlie', 'David', 'Eve']\n",
    "\n",
    "#removing elements from a list\n",
    "names.remove('Charlie')\n",
    "print(names)  # Output: ['Alice', 'Bobby', 'David', 'Eve']\n",
    "\n",
    "#removing the last element\n",
    "last_name = names.pop()\n",
    "print(last_name)  # Output: Eve\n",
    "\n",
    "#getting the length of a list\n",
    "print(len(names))  # Output: 3\n",
    "\n",
    "#getting the index of an element\n",
    "print(names.index('Bobby'))  # Output: 1\n",
    "\n",
    "#checking if an element is in the list\n",
    "print('Alice' in names)  # Output: True\n",
    "print('Charlie' in names)  # Output: False"
   ]
  },
  {
   "cell_type": "code",
   "execution_count": 3,
   "id": "efd28d81",
   "metadata": {},
   "outputs": [
    {
     "name": "stdout",
     "output_type": "stream",
     "text": [
      "['Alice', 'Bobby']\n",
      "['David', 'Bobby', 'Alice']\n",
      "['Alice', 'Bobby', 'David']\n",
      "['Alice', 'Bobby', 'David']\n",
      "[]\n"
     ]
    }
   ],
   "source": [
    "#Slicing a list\n",
    "print(names[0:2])  # Output: ['Alice', 'Bobby']\n",
    "# Reversing a list\n",
    "names.reverse()\n",
    "print(names)  # Output: ['David', 'Bobby', 'Alice']\n",
    "# Sorting a list\n",
    "names.sort()\n",
    "print(names)  # Output: ['Alice', 'Bobby', 'David']\n",
    "# Copying a list\n",
    "names_copy = names.copy()\n",
    "print(names_copy)  # Output: ['Alice', 'Bobby', 'David']\n",
    "# Clearing a list\n",
    "names.clear()\n",
    "print(names)  # Output: []\n"
   ]
  },
  {
   "cell_type": "code",
   "execution_count": null,
   "id": "a29542fc",
   "metadata": {},
   "outputs": [
    {
     "name": "stdout",
     "output_type": "stream",
     "text": [
      "[0, 1, 4, 9, 16, 25, 36, 49, 64, 81]\n",
      "[0, 4, 16, 36, 64]\n",
      "[0, 1, 4, 9, 16, 25, 36, 49, 64, 81]\n"
     ]
    }
   ],
   "source": [
    "#list comprehension\n",
    "#basic list comprehension\n",
    "squares = [x**2 for x in range(10)]\n",
    "print(squares)  # Output: [0, 1, 4, 9, 16, 25, 36, 49, 64, 81]\n",
    "\n",
    "#list comprehension with condition\n",
    "even_squares = [x**2 for x in range(10) if x % 2 == 0]\n",
    "print(even_squares)  # Output: [0, 4, 16, 36, 64]\n",
    "\n",
    "#nested list comprehension\n",
    "matrix = [[j for j in range(3)] for i in range(3)]\n",
    "print(squares)  # Output: [0, 1, 4, 9, 16, 25, 36, 49, 64, 81]"
   ]
  }
 ],
 "metadata": {
  "kernelspec": {
   "display_name": "Python 3",
   "language": "python",
   "name": "python3"
  },
  "language_info": {
   "codemirror_mode": {
    "name": "ipython",
    "version": 3
   },
   "file_extension": ".py",
   "mimetype": "text/x-python",
   "name": "python",
   "nbconvert_exporter": "python",
   "pygments_lexer": "ipython3",
   "version": "3.10.16"
  }
 },
 "nbformat": 4,
 "nbformat_minor": 5
}
