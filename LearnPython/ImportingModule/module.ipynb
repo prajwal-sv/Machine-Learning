{
 "cells": [
  {
   "cell_type": "markdown",
   "id": "c22594ca",
   "metadata": {},
   "source": [
    "To import a module in Python, use the `import` statement followed by the module name. For example:\n",
    "\n",
    "```python\n",
    "import pandas as pd\n",
    "```\n",
    "\n",
    "This allows you to use the functions and classes provided by the module in your code. You can also import specific functions or classes using the `from` keyword:\n",
    "\n",
    "```python\n",
    "from math import sqrt\n",
    "```\n",
    "\n",
    "Using aliases (like `pd` for `pandas`) can make your code shorter and more readable."
   ]
  },
  {
   "cell_type": "code",
   "execution_count": 1,
   "id": "1a01b6e4",
   "metadata": {},
   "outputs": [
    {
     "name": "stdout",
     "output_type": "stream",
     "text": [
      "4.0\n",
      "4.0\n"
     ]
    }
   ],
   "source": [
    "#Importing modules\n",
    "\n",
    "import numpy as np ; \n",
    "\n",
    "#where numpy is a library for numerical computations in Python\n",
    "#and np is a common alias for it\n",
    "\n",
    "import math as m\n",
    "#where math is a standard library for mathematical functions in Python\n",
    "#and m is a common alias for it\n",
    "\n",
    "from math import sqrt\n",
    "#where sqrt is a function from the math library that computes the square root of a number\n",
    "#and it is imported directly for convenience\n",
    "\n",
    "print(sqrt(16))\n",
    "#where this line prints the square root of 16, which is 4.0\n",
    "print(m.sqrt(16))\n",
    "#where this line also prints the square root of 16 using the math library, which is also 4.0"
   ]
  },
  {
   "cell_type": "markdown",
   "id": "b8c35ceb",
   "metadata": {},
   "source": [
    "To install a Python module, you can use the `pip` package manager. In a Jupyter Notebook, prefix the command with `!` to run it as a shell command. For example:\n",
    "\n",
    "```python\n",
    "!pip install module_name\n",
    "```\n",
    "\n",
    "Replace `module_name` with the name of the module you want to install. For example, to install `numpy`:\n",
    "\n",
    "```python\n",
    "!pip install numpy\n",
    "```\n",
    "\n",
    "This will download and install the module so you can import and use it in your code."
   ]
  },
  {
   "cell_type": "code",
   "execution_count": 3,
   "id": "7f58696e",
   "metadata": {},
   "outputs": [
    {
     "name": "stderr",
     "output_type": "stream",
     "text": [
      "ERROR: Could not open requirements file: [Errno 2] No such file or directory: 'requirement.txt'\n"
     ]
    }
   ],
   "source": [
    "#!pip install numpy\n",
    "#where this line installs the numpy library using pip, a package manager for Python \n",
    "\n",
    "#we have requiremnts.txt file\n",
    "#where this file contains a list of packages and their versions required for the project\n",
    "#and we can install them all at once using pip install -r requirements.txt\n",
    "#we can also use pip install numpy==1.21.0\n",
    "#where this line installs a specific version of numpy, which is 1.21.0 in this case\n",
    "\n",
    "!pip  install -r requirement.txt\n",
    "#where this line installs all the packages listed in the requirements.txt file using pip"
   ]
  }
 ],
 "metadata": {
  "kernelspec": {
   "display_name": "Python 3",
   "language": "python",
   "name": "python3"
  },
  "language_info": {
   "codemirror_mode": {
    "name": "ipython",
    "version": 3
   },
   "file_extension": ".py",
   "mimetype": "text/x-python",
   "name": "python",
   "nbconvert_exporter": "python",
   "pygments_lexer": "ipython3",
   "version": "3.10.16"
  }
 },
 "nbformat": 4,
 "nbformat_minor": 5
}
