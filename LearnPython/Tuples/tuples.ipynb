{
 "cells": [
  {
   "cell_type": "code",
   "execution_count": 1,
   "id": "c48032ff",
   "metadata": {},
   "outputs": [
    {
     "name": "stdout",
     "output_type": "stream",
     "text": [
      "(1, 2, 3, 'hello', 4.5)\n",
      "1\n",
      "hello\n",
      "(2, 3, 'hello')\n"
     ]
    }
   ],
   "source": [
    "#Tuples in python \n",
    "#Tuples are immutable sequences, typically used to store collections of heterogeneous data.\n",
    "#Tuples are defined by enclosing the elements in parentheses ().\n",
    "\n",
    "#Creating a tuple\n",
    "my_tuple = (1, 2, 3, \"hello\", 4.5)\n",
    "print(my_tuple)\n",
    "\n",
    "#Accessing elements in a tuple\n",
    "print(my_tuple[0])  # Output: 1\n",
    "print(my_tuple[3])  # Output: hello\n",
    "\n",
    "#Slicing a tuple\n",
    "print(my_tuple[1:4])  # Output: (2, 3, 'hello')\n",
    "\n",
    "#Tuples are immutable, so we cannot change their elements\n",
    "\n"
   ]
  },
  {
   "cell_type": "code",
   "execution_count": 2,
   "id": "307885c5",
   "metadata": {},
   "outputs": [
    {
     "name": "stdout",
     "output_type": "stream",
     "text": [
      "(10, 2, 3, 'hello', 4.5)\n",
      "(10, 2, 3, 'hello', 4.5, 7, 8)\n",
      "(10, 2, 3, 'hello', 4.5, 10, 2, 3, 'hello', 4.5)\n",
      "5\n",
      "True\n",
      "10\n",
      "2\n",
      "3\n",
      "hello\n",
      "4.5\n"
     ]
    }
   ],
   "source": [
    "#coverting a tuple to a list\n",
    "my_list = list(my_tuple)\n",
    "# Now we can modify the list\n",
    "my_list[0] = 10\n",
    "# Converting back to a tuple\n",
    "my_tuple = tuple(my_list)\n",
    "print(my_tuple)  # Output: (10, 2, 3, 'hello', 4.5)\n",
    "\n",
    "#Concatenating tuples addition\n",
    "print(my_tuple + (7, 8))  # Output: (10, 2, 3, 'hello', 4.5, 7, 8)\n",
    "\n",
    "#Repeating tuples\n",
    "print(my_tuple * 2)  # Output: (10, 2, 3, 'hello', 4.5, 10, 2, 3, 'hello', 4.5)\n",
    "\n",
    "#Finding the length of a tuple\n",
    "print(len(my_tuple))  # Output: 5\n",
    "\n",
    "#Checking membership in a tuple\n",
    "print(3 in my_tuple)  # Output: True\n",
    "\n",
    "#Iterating through a tuple\n",
    "for element in my_tuple:\n",
    "    print(element)\n",
    "# Output: 10, 2, 3, hello, 4.5\n",
    "\n"
   ]
  },
  {
   "cell_type": "code",
   "execution_count": null,
   "id": "7a8a8ee3",
   "metadata": {},
   "outputs": [
    {
     "name": "stdout",
     "output_type": "stream",
     "text": [
      "1\n",
      "3\n",
      "10 2 3 hello 4.5\n",
      "1 2 3 4 5 6 nested\n"
     ]
    }
   ],
   "source": [
    "#methods available for tuples\n",
    "#Count the number of occurrences of an element\n",
    "print(my_tuple.count(2))  # Output: 1\n",
    "#Find the index of the first occurrence of an element\n",
    "print(my_tuple.index('hello'))  # Output: 3\n",
    "\n",
    "#packing and unpacking tuples\n",
    "#Unpacking a tuple\n",
    "a, b, c, d, e = my_tuple\n",
    "print(a, b, c, d, e)  # Output: 10 2 3 hello 4.5\n",
    "#Nested tuples\n",
    "nested_tuple = (1, (2, 3), (4, 5, 6), \"nested\")\n",
    "a, (b, c), (d, e, f), g = nested_tuple\n",
    "print(a, b, c, d, e, f, g)  # Output: 1 2 3 4 5 6 nested\n",
    "\n",
    "\n"
   ]
  }
 ],
 "metadata": {
  "kernelspec": {
   "display_name": "Python 3",
   "language": "python",
   "name": "python3"
  },
  "language_info": {
   "codemirror_mode": {
    "name": "ipython",
    "version": 3
   },
   "file_extension": ".py",
   "mimetype": "text/x-python",
   "name": "python",
   "nbconvert_exporter": "python",
   "pygments_lexer": "ipython3",
   "version": "3.10.16"
  }
 },
 "nbformat": 4,
 "nbformat_minor": 5
}
