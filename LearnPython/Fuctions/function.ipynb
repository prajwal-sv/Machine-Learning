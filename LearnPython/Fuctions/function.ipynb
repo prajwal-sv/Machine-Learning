{
 "cells": [
  {
   "cell_type": "code",
   "execution_count": 2,
   "id": "c37ae15c",
   "metadata": {},
   "outputs": [
    {
     "name": "stdout",
     "output_type": "stream",
     "text": [
      "The sum is: 15\n"
     ]
    }
   ],
   "source": [
    "#Function in python \n",
    "#defination of function\n",
    "#syntax\n",
    "# def function_name(parameters):\n",
    "#     statements\n",
    "#     return value  #optional\n",
    "\n",
    "\n",
    "\n",
    "# example of function\n",
    "#addition of two numbers\n",
    "\n",
    "\n",
    "def add(a, b):\n",
    "    \"\"\"\n",
    "    This function takes two numbers and returns their sum.\n",
    "    \n",
    "    Parameters:\n",
    "    a (int or float): The first number.\n",
    "    b (int or float): The second number.\n",
    "    \n",
    "    Returns:\n",
    "    int or float: The sum of a and b.\n",
    "    \"\"\"\n",
    "    return a + b \n",
    "\n",
    "\n",
    "#calling the function\n",
    "result = add(5, 10)\n",
    "print(\"The sum is:\", result) # Output: The sum is: 15\n",
    "\n"
   ]
  },
  {
   "cell_type": "code",
   "execution_count": 3,
   "id": "a8792cf6",
   "metadata": {},
   "outputs": [
    {
     "name": "stdout",
     "output_type": "stream",
     "text": [
      "Hello, World!\n",
      "Hello, Alice!\n"
     ]
    }
   ],
   "source": [
    "## Example of a function with default parameters\n",
    "def greet(name=\"World\"):\n",
    "    print(f\"Hello, {name}!\")\n",
    "# Calling the function without an argument\n",
    "greet()  # Output: Hello, World!\n",
    "# Calling the function with an argument\n",
    "greet(\"Alice\")  # Output: Hello, Alice!"
   ]
  },
  {
   "cell_type": "code",
   "execution_count": 4,
   "id": "936ffb4a",
   "metadata": {},
   "outputs": [
    {
     "name": "stdout",
     "output_type": "stream",
     "text": [
      "Coordinates: (10, 20)\n"
     ]
    }
   ],
   "source": [
    "#returning multiple values from a function\n",
    "def get_coordinates():\n",
    "    \"\"\"\n",
    "    This function returns the x and y coordinates.\n",
    "    \n",
    "    Returns:\n",
    "    tuple: A tuple containing the x and y coordinates.\n",
    "    \"\"\"\n",
    "    x = 10\n",
    "    y = 20\n",
    "    return x, y \n",
    "# Calling the function and unpacking the returned values\n",
    "x_coord, y_coord = get_coordinates()\n",
    "print(f\"Coordinates: ({x_coord}, {y_coord})\")  # Output: Coordinates: (10, 20)"
   ]
  }
 ],
 "metadata": {
  "kernelspec": {
   "display_name": "Python 3",
   "language": "python",
   "name": "python3"
  },
  "language_info": {
   "codemirror_mode": {
    "name": "ipython",
    "version": 3
   },
   "file_extension": ".py",
   "mimetype": "text/x-python",
   "name": "python",
   "nbconvert_exporter": "python",
   "pygments_lexer": "ipython3",
   "version": "3.10.16"
  }
 },
 "nbformat": 4,
 "nbformat_minor": 5
}
