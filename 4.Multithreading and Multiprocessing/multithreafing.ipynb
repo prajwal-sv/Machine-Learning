{
 "cells": [
  {
   "cell_type": "code",
   "execution_count": 1,
   "id": "733ec3b6",
   "metadata": {},
   "outputs": [
    {
     "name": "stdout",
     "output_type": "stream",
     "text": [
      "0\n",
      "a\n",
      "1\n",
      "2\n",
      "b\n",
      "3\n",
      "4\n",
      "c\n",
      "d\n",
      "e\n",
      "Time taken to execute: 10.038687705993652 seconds\n"
     ]
    }
   ],
   "source": [
    "#Multithreading\n",
    "import threading\n",
    "\n",
    "import time\n",
    "def print_numbers():\n",
    "    for i in range(5):\n",
    "        time.sleep(1)  # Simulating a delay\n",
    "        print(i)\n",
    "        \n",
    "def print_letters():\n",
    "    for letter in 'abcde':\n",
    "        time.sleep(2)  # Simulating a delay\n",
    "        print(letter)\n",
    "\n",
    "# Create threads\n",
    "\n",
    "t1 =  threading.Thread(target=print_numbers)\n",
    "t2 = threading.Thread(target=print_letters)\n",
    "\n",
    "\n",
    "t = time.time()   \n",
    "t1.start()\n",
    "t2.start()\n",
    "\n",
    "t1.join()\n",
    "t2.join()\n",
    "finished_time = time.time()-t\n",
    "print(f'Time taken to execute: {finished_time} seconds')\n",
    "\n",
    "\n"
   ]
  }
 ],
 "metadata": {
  "kernelspec": {
   "display_name": "Python 3",
   "language": "python",
   "name": "python3"
  },
  "language_info": {
   "codemirror_mode": {
    "name": "ipython",
    "version": 3
   },
   "file_extension": ".py",
   "mimetype": "text/x-python",
   "name": "python",
   "nbconvert_exporter": "python",
   "pygments_lexer": "ipython3",
   "version": "3.10.16"
  }
 },
 "nbformat": 4,
 "nbformat_minor": 5
}
