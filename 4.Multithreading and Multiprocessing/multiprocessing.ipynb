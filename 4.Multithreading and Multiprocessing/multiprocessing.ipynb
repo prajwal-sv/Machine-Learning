{
 "cells": [
  {
   "cell_type": "code",
   "execution_count": 7,
   "id": "4d5a8e4e",
   "metadata": {},
   "outputs": [
    {
     "name": "stdout",
     "output_type": "stream",
     "text": [
      "Finished in 0.2706613540649414 seconds\n"
     ]
    }
   ],
   "source": [
    "import multiprocessing\n",
    "import time\n",
    "\n",
    "def square():\n",
    "   for i in range(10):\n",
    "      time.sleep(1)\n",
    "      print(f\"Square: {i * i}\") \n",
    "\n",
    "def cube():\n",
    "   for i in range(10):\n",
    "      time.sleep(1.5)\n",
    "      print(f\"Cube: {i * i * i}\") \n",
    "\n",
    "if __name__ == \"__main__\":\n",
    "   \n",
    "         #crate two processes\n",
    "   p1 = multiprocessing.Process(target=square)\n",
    "   p2 = multiprocessing.Process(target=cube)\n",
    "\n",
    "   t = time.time()\n",
    "\n",
    "\n",
    "   # start the processes\n",
    "   p1.start()\n",
    "   p2.start()\n",
    "\n",
    "   # wait for the processes to finish\n",
    "   p1.join()\n",
    "   p2.join()\n",
    "\n",
    "   finished = time.time() - t\n",
    "   print(f\"Finished in {finished} seconds\")\n",
    "   # This script demonstrates the use of multiprocessing in Python to run two functions concurrently.\n",
    "         "
   ]
  },
  {
   "cell_type": "code",
   "execution_count": 8,
   "id": "b3c731e4",
   "metadata": {},
   "outputs": [
    {
     "name": "stdout",
     "output_type": "stream",
     "text": [
      "Number: 1\n",
      "Number: 2\n",
      "Number: 3\n",
      "Number: 4\n",
      "Number: 5\n"
     ]
    }
   ],
   "source": [
    "#multithradding with Thread Pool Executor\n",
    "\n",
    "from concurrent.futures import ThreadPoolExecutor\n",
    "import time\n",
    "\n",
    "def print_number(number):\n",
    "    time.sleep(1)  # Simulate a time-consuming task\n",
    "    return f\"Number: {number}\"\n",
    "\n",
    "numbers = [1, 2, 3, 4, 5]\n",
    "\n",
    "with ThreadPoolExecutor(max_workers=3) as executor:\n",
    "    results =executor.map(print_number, numbers) \n",
    "\n",
    "for result in results:\n",
    "    print(result)\n",
    "# Output will be printed as the threads complete their tasks"
   ]
  }
 ],
 "metadata": {
  "kernelspec": {
   "display_name": "Python 3",
   "language": "python",
   "name": "python3"
  },
  "language_info": {
   "codemirror_mode": {
    "name": "ipython",
    "version": 3
   },
   "file_extension": ".py",
   "mimetype": "text/x-python",
   "name": "python",
   "nbconvert_exporter": "python",
   "pygments_lexer": "ipython3",
   "version": "3.10.16"
  }
 },
 "nbformat": 4,
 "nbformat_minor": 5
}
