{
 "cells": [
  {
   "cell_type": "code",
   "execution_count": 1,
   "id": "81c8d53f",
   "metadata": {},
   "outputs": [
    {
     "name": "stdout",
     "output_type": "stream",
     "text": [
      "1\n",
      "2\n",
      "3\n"
     ]
    }
   ],
   "source": [
    "# Definition of Iterator in Python\n",
    "\n",
    "# An iterator in Python is an object that allows you to traverse through all the elements of a collection (like a list or tuple), one element at a time.\n",
    "# It implements two methods: __iter__() and __next__().\n",
    "# The __iter__() method returns the iterator object itself, and __next__() returns the next value from the collection.\n",
    "# When there are no more items to return, __next__() raises a StopIteration exception.\n",
    "\n",
    "# Example:\n",
    "my_list = [1, 2, 3]\n",
    "iterator = iter(my_list)  # Get an iterator object\n",
    "\n",
    "print(next(iterator))  # Output: 1\n",
    "print(next(iterator))  # Output: 2\n",
    "print(next(iterator))  # Output: 3\n",
    "# print(next(iterator))  # This will raise StopIteration"
   ]
  },
  {
   "cell_type": "code",
   "execution_count": 2,
   "id": "9859cc50",
   "metadata": {},
   "outputs": [
    {
     "name": "stdout",
     "output_type": "stream",
     "text": [
      "1\n",
      "2\n",
      "3\n"
     ]
    }
   ],
   "source": [
    "\n",
    "# Example with try and except:\n",
    "my_list = [1, 2, 3]\n",
    "iterator = iter(my_list)  # Get an iterator object\n",
    "\n",
    "while True:\n",
    "    try:\n",
    "        value = next(iterator)\n",
    "        print(value)\n",
    "    except StopIteration:\n",
    "        # When the iterator is exhausted, break the loop\n",
    "        break"
   ]
  }
 ],
 "metadata": {
  "kernelspec": {
   "display_name": "Python 3",
   "language": "python",
   "name": "python3"
  },
  "language_info": {
   "codemirror_mode": {
    "name": "ipython",
    "version": 3
   },
   "file_extension": ".py",
   "mimetype": "text/x-python",
   "name": "python",
   "nbconvert_exporter": "python",
   "pygments_lexer": "ipython3",
   "version": "3.10.16"
  }
 },
 "nbformat": 4,
 "nbformat_minor": 5
}
