{
 "cells": [
  {
   "cell_type": "code",
   "execution_count": 1,
   "id": "9a7c43b1",
   "metadata": {},
   "outputs": [
    {
     "name": "stdout",
     "output_type": "stream",
     "text": [
      "1\n",
      "2\n",
      "3\n",
      "1\n",
      "2\n",
      "3\n",
      "4\n",
      "5\n"
     ]
    }
   ],
   "source": [
    "# Definition of Generator in Python\n",
    "\n",
    "# A generator in Python is a special type of iterator that allows you to iterate over a sequence of values.\n",
    "# Unlike regular functions, a generator uses the 'yield' keyword to return values one at a time, suspending its state between each call.\n",
    "# Generators are memory efficient because they generate values on the fly and do not store the entire sequence in memory.\n",
    "\n",
    "# Example: A simple generator that yields numbers from 1 to 3\n",
    "def my_generator():\n",
    "    yield 1\n",
    "    yield 2\n",
    "    yield 3\n",
    "\n",
    "gen = my_generator()  # Create a generator object\n",
    "\n",
    "print(next(gen))  # Output: 1\n",
    "print(next(gen))  # Output: 2\n",
    "print(next(gen))  # Output: 3\n",
    "# print(next(gen))  # This will raise StopIteration\n",
    "\n",
    "# Example: Using a generator in a for loop\n",
    "def count_up_to(n):\n",
    "    count = 1\n",
    "    while count <= n:\n",
    "        yield count\n",
    "        count += 1\n",
    "\n",
    "for num in count_up_to(5):\n",
    "    print(num)  # Output: 1 2 3 4 5"
   ]
  },
  {
   "cell_type": "code",
   "execution_count": 2,
   "id": "e775e639",
   "metadata": {},
   "outputs": [
    {
     "name": "stdout",
     "output_type": "stream",
     "text": [
      "1\n",
      "4\n",
      "9\n",
      "16\n",
      "25\n"
     ]
    }
   ],
   "source": [
    "# Generator to yield squares of numbers from 1 to n\n",
    "\n",
    "def square_generator(n):\n",
    "    for i in range(1, n + 1):\n",
    "        yield i ** 2  # Yield the square of i\n",
    "\n",
    "# Example usage: print squares from 1 to 5\n",
    "for square in square_generator(5):\n",
    "    print(square)  # Output: 1 4 9 16 25"
   ]
  }
 ],
 "metadata": {
  "kernelspec": {
   "display_name": "Python 3",
   "language": "python",
   "name": "python3"
  },
  "language_info": {
   "codemirror_mode": {
    "name": "ipython",
    "version": 3
   },
   "file_extension": ".py",
   "mimetype": "text/x-python",
   "name": "python",
   "nbconvert_exporter": "python",
   "pygments_lexer": "ipython3",
   "version": "3.10.16"
  }
 },
 "nbformat": 4,
 "nbformat_minor": 5
}
