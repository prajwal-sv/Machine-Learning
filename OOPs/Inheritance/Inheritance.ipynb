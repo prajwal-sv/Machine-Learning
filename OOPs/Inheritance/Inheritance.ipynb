{
 "cells": [
  {
   "cell_type": "code",
   "execution_count": 5,
   "id": "ceac362e",
   "metadata": {},
   "outputs": [
    {
     "name": "stdout",
     "output_type": "stream",
     "text": [
      "buffy barks!\n"
     ]
    }
   ],
   "source": [
    "# Inheritance in Python\n",
    "\n",
    "# Define a base class called Animal\n",
    "class Animal:\n",
    "    def __init__(self, name):\n",
    "        self.name = name  # Instance variable to store the animal's name\n",
    "\n",
    "    def speak(self):\n",
    "        # This method is intended to be overridden by subclasses\n",
    "        pass\n",
    "\n",
    "# Define a subclass DOG that inherits from Animal\n",
    "class DOG(Animal):\n",
    "    def speak(self):\n",
    "        # Override the speak method to provide DOG-specific behavior\n",
    "        return f\"{self.name} barks!\"\n",
    "\n",
    "# Create an instance of DOG with the name \"buffy\"\n",
    "dog = DOG(\"buffy\")\n",
    "\n",
    "# Call the speak method on the dog object and print the result\n",
    "print(dog.speak())  # Output: buffy barks!"
   ]
  },
  {
   "cell_type": "code",
   "execution_count": 7,
   "id": "3d3b261c",
   "metadata": {},
   "outputs": [
    {
     "name": "stdout",
     "output_type": "stream",
     "text": [
      "Toyota Corolla is starting.\n",
      "Toyota Corolla with 4 doors.\n"
     ]
    }
   ],
   "source": [
    "# Example 1: Inheriting and extending functionality\n",
    "\n",
    "# Base class\n",
    "class Vehicle:\n",
    "    def __init__(self, brand, model):\n",
    "        self.brand = brand\n",
    "        self.model = model\n",
    "\n",
    "    def start(self):\n",
    "        return f\"{self.brand} {self.model} is starting.\"\n",
    "\n",
    "# Subclass inheriting from Vehicle\n",
    "class Car(Vehicle):\n",
    "    def __init__(self, brand, model, doors):\n",
    "        super().__init__(brand, model)  # Call the base class constructor\n",
    "        self.doors = doors  # New attribute specific to Car\n",
    "\n",
    "    def info(self):\n",
    "        # Access both base and subclass attributes\n",
    "        return f\"{self.brand} {self.model} with {self.doors} doors.\"\n",
    "\n",
    "car = Car(\"Toyota\", \"Corolla\", 4)\n",
    "print(car.start())  # Output: Toyota Corolla is starting.\n",
    "print(car.info())   # Output: Toyota Corolla with 4 doors.\n",
    "\n",
    "\n",
    "\n"
   ]
  },
  {
   "cell_type": "code",
   "execution_count": 8,
   "id": "c4a8e2ff",
   "metadata": {},
   "outputs": [
    {
     "name": "stdout",
     "output_type": "stream",
     "text": [
      "Buddy says Woof!\n",
      "Kitty says Meow!\n"
     ]
    }
   ],
   "source": [
    "# Example 2: Multiple subclasses with their own behavior\n",
    "\n",
    "class Animal:\n",
    "    def __init__(self, name):\n",
    "        self.name = name\n",
    "\n",
    "    def speak(self):\n",
    "        pass  # To be overridden\n",
    "\n",
    "class Dog(Animal):\n",
    "    def speak(self):\n",
    "        return f\"{self.name} says Woof!\"\n",
    "\n",
    "class Cat(Animal):\n",
    "    def speak(self):\n",
    "        return f\"{self.name} says Meow!\"\n",
    "\n",
    "dog = Dog(\"Buddy\")\n",
    "cat = Cat(\"Kitty\")\n",
    "print(dog.speak())  # Output: Buddy says Woof!\n",
    "print(cat.speak())  # Output: Kitty says Meow!\n",
    "\n"
   ]
  },
  {
   "cell_type": "code",
   "execution_count": 9,
   "id": "8e81303b",
   "metadata": {},
   "outputs": [
    {
     "name": "stdout",
     "output_type": "stream",
     "text": [
      "Hello, my name is Alice. My student ID is S123.\n"
     ]
    }
   ],
   "source": [
    "# Example 3: Using super() to call parent methods\n",
    "\n",
    "class Person:\n",
    "    def __init__(self, name):\n",
    "        self.name = name\n",
    "\n",
    "    def greet(self):\n",
    "        return f\"Hello, my name is {self.name}.\"\n",
    "\n",
    "class Student(Person):\n",
    "    def __init__(self, name, student_id):\n",
    "        super().__init__(name)  # Call the parent constructor\n",
    "        self.student_id = student_id\n",
    "\n",
    "    def greet(self):\n",
    "        # Extend the parent greet method\n",
    "        return super().greet() + f\" My student ID is {self.student_id}.\"\n",
    "\n",
    "student = Student(\"Alice\", \"S123\")\n",
    "print(student.greet())  # Output: Hello, my name is Alice. My student ID is S123."
   ]
  }
 ],
 "metadata": {
  "kernelspec": {
   "display_name": "Python 3",
   "language": "python",
   "name": "python3"
  },
  "language_info": {
   "codemirror_mode": {
    "name": "ipython",
    "version": 3
   },
   "file_extension": ".py",
   "mimetype": "text/x-python",
   "name": "python",
   "nbconvert_exporter": "python",
   "pygments_lexer": "ipython3",
   "version": "3.10.16"
  }
 },
 "nbformat": 4,
 "nbformat_minor": 5
}
