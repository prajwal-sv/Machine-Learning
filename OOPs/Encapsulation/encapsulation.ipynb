{
 "cells": [
  {
   "cell_type": "code",
   "execution_count": 1,
   "id": "eda15488",
   "metadata": {},
   "outputs": [
    {
     "name": "stdout",
     "output_type": "stream",
     "text": [
      "Alice\n",
      "30\n",
      "50000\n"
     ]
    }
   ],
   "source": [
    "# Encapsulation in Python\n",
    "\n",
    "# Definition:\n",
    "# Encapsulation is an object-oriented programming (OOP) concept that refers to bundling data (variables) and methods (functions) that operate on that data into a single unit, called a class.\n",
    "# It also restricts direct access to some of the object's components, which helps protect the integrity of the data.\n",
    "# In Python, encapsulation is often implemented using private and protected variables.\n",
    "\n",
    "# Example:\n",
    "class Person:\n",
    "    def __init__(self, name, age):\n",
    "        self.name = name          # public attribute\n",
    "        self._age = age           # protected attribute (convention: single underscore)\n",
    "        self.__salary = 50000     # private attribute (double underscore)\n",
    "\n",
    "    def get_salary(self):\n",
    "        # Public method to access private attribute\n",
    "        return self.__salary\n",
    "\n",
    "person = Person(\"Alice\", 30)\n",
    "print(person.name)        # Accessible\n",
    "print(person._age)        # Accessible, but should be treated as 'protected'\n",
    "print(person.get_salary())# Accessing private attribute via public method\n",
    "\n",
    "# print(person.__salary)  # This will raise an AttributeError (private)"
   ]
  },
  {
   "cell_type": "code",
   "execution_count": 2,
   "id": "0612cf33",
   "metadata": {},
   "outputs": [
    {
     "name": "stdout",
     "output_type": "stream",
     "text": [
      "Deposited 500. New balance: 1500\n",
      "Withdrew 200. New balance: 1300\n",
      "1300\n"
     ]
    }
   ],
   "source": [
    "# Another example of Encapsulation in Python\n",
    "\n",
    "class BankAccount:\n",
    "    def __init__(self, owner, balance):\n",
    "        self.owner = owner           # public attribute\n",
    "        self.__balance = balance     # private attribute\n",
    "\n",
    "    def deposit(self, amount):\n",
    "        # Public method to modify private attribute\n",
    "        if amount > 0:\n",
    "            self.__balance += amount\n",
    "            print(f\"Deposited {amount}. New balance: {self.__balance}\")\n",
    "        else:\n",
    "            print(\"Deposit amount must be positive.\")\n",
    "\n",
    "    def withdraw(self, amount):\n",
    "        # Public method to modify private attribute\n",
    "        if 0 < amount <= self.__balance:\n",
    "            self.__balance -= amount\n",
    "            print(f\"Withdrew {amount}. New balance: {self.__balance}\")\n",
    "        else:\n",
    "            print(\"Insufficient funds or invalid amount.\")\n",
    "\n",
    "    def get_balance(self):\n",
    "        # Public method to access private attribute\n",
    "        return self.__balance\n",
    "\n",
    "# Usage\n",
    "account = BankAccount(\"Bob\", 1000)\n",
    "account.deposit(500)           # Deposited 500. New balance: 1500\n",
    "account.withdraw(200)          # Withdrew 200. New balance: 1300\n",
    "print(account.get_balance())   # 1300\n",
    "\n",
    "# print(account.__balance)    # This will raise an AttributeError (private)"
   ]
  }
 ],
 "metadata": {
  "kernelspec": {
   "display_name": "Python 3",
   "language": "python",
   "name": "python3"
  },
  "language_info": {
   "codemirror_mode": {
    "name": "ipython",
    "version": 3
   },
   "file_extension": ".py",
   "mimetype": "text/x-python",
   "name": "python",
   "nbconvert_exporter": "python",
   "pygments_lexer": "ipython3",
   "version": "3.10.16"
  }
 },
 "nbformat": 4,
 "nbformat_minor": 5
}
