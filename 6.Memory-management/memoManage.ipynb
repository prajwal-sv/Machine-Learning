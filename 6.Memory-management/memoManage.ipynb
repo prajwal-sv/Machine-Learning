{
 "cells": [
  {
   "cell_type": "code",
   "execution_count": 1,
   "id": "68a4947d",
   "metadata": {},
   "outputs": [],
   "source": [
    "#Refernce Counting \n",
    "#It is a technique used to keep track of the number of references to an object in memory.\n",
    "#When the reference count of an object drops to zero, it means that there are no references"
   ]
  },
  {
   "cell_type": "code",
   "execution_count": 2,
   "id": "0c353dc4",
   "metadata": {},
   "outputs": [
    {
     "name": "stdout",
     "output_type": "stream",
     "text": [
      "2\n"
     ]
    }
   ],
   "source": [
    "import sys\n",
    "\n",
    "a = []\n",
    "\n",
    "print(sys.getrefcount(a))  # Output: 2 (one for 'a' and one for the argument in getrefcount)"
   ]
  },
  {
   "cell_type": "code",
   "execution_count": 3,
   "id": "4ff25f22",
   "metadata": {},
   "outputs": [
    {
     "name": "stdout",
     "output_type": "stream",
     "text": [
      "3\n"
     ]
    }
   ],
   "source": [
    "b = a\n",
    "print(sys.getrefcount(b))  # Output: 3 (one for 'a', one for 'b', and one for the argument in getrefcount)"
   ]
  },
  {
   "cell_type": "code",
   "execution_count": 4,
   "id": "7a7f4916",
   "metadata": {},
   "outputs": [
    {
     "name": "stdout",
     "output_type": "stream",
     "text": [
      "2\n"
     ]
    }
   ],
   "source": [
    "del  b \n",
    "print(sys.getrefcount(a))  # Output: 2 (one for 'a' and one for the argument in getrefcount)"
   ]
  },
  {
   "cell_type": "code",
   "execution_count": 5,
   "id": "546704ab",
   "metadata": {},
   "outputs": [],
   "source": [
    "#### Garbage Collection\n",
    "# It is a process of automatically reclaiming memory by identifying and collecting objects that are no longer reachable or needed by the program.\n",
    "import gc\n",
    "# Enable automatic garbage collection\n",
    "gc.enable()"
   ]
  },
  {
   "cell_type": "code",
   "execution_count": 6,
   "id": "cfaf8a12",
   "metadata": {},
   "outputs": [],
   "source": [
    "gc.disable()  # Disable automatic garbage collection"
   ]
  },
  {
   "cell_type": "code",
   "execution_count": 9,
   "id": "5992749d",
   "metadata": {},
   "outputs": [
    {
     "data": {
      "text/plain": [
       "0"
      ]
     },
     "execution_count": 9,
     "metadata": {},
     "output_type": "execute_result"
    }
   ],
   "source": [
    "gc.collect()  # Force garbage collection"
   ]
  },
  {
   "cell_type": "code",
   "execution_count": 10,
   "id": "600ad337",
   "metadata": {},
   "outputs": [
    {
     "name": "stdout",
     "output_type": "stream",
     "text": [
      "<built-in function get_stats>\n"
     ]
    }
   ],
   "source": [
    "#get garbage collection satas\n",
    "print(gc.get_stats)"
   ]
  },
  {
   "cell_type": "code",
   "execution_count": 11,
   "id": "45a2939e",
   "metadata": {},
   "outputs": [
    {
     "name": "stdout",
     "output_type": "stream",
     "text": [
      "[]\n"
     ]
    }
   ],
   "source": [
    "#Get Unreachable objrects\n",
    "print(gc.garbage)"
   ]
  },
  {
   "cell_type": "code",
   "execution_count": null,
   "id": "9bc72d7e",
   "metadata": {},
   "outputs": [
    {
     "name": "stdout",
     "output_type": "stream",
     "text": [
      "Object obj1 created\n",
      "Object obj2 created\n",
      "Obejct obj1 deleted\n",
      "Obejct obj2 deleted\n"
     ]
    },
    {
     "data": {
      "text/plain": [
       "11"
      ]
     },
     "execution_count": 15,
     "metadata": {},
     "output_type": "execute_result"
    }
   ],
   "source": [
    "\n",
    "#Handling Circular Gc\n",
    "\n",
    "import gc\n",
    "\n",
    "class MyObject:\n",
    "    def __init__(self ,name):\n",
    "        self.name = name \n",
    "        print(f\"Object {self.name} created\")\n",
    "    \n",
    "    def __del__(self):\n",
    "        print(f\"Obejct {self.name} deleted\")\n",
    "\n",
    "#cretae Circular Refrance\n",
    "obj1 = MyObject(\"obj1\")\n",
    "obj2 = MyObject(\"obj2\")\n",
    "\n",
    "obj1.ref=obj2\n",
    "obj2.ref=obj1\n",
    "\n",
    "del obj1\n",
    "del obj2\n",
    "\n",
    "#manually Trigger the Grabage colection\n",
    "\n",
    "gc.collect()\n",
    "\n"
   ]
  },
  {
   "cell_type": "code",
   "execution_count": 16,
   "id": "77de4fdf",
   "metadata": {},
   "outputs": [
    {
     "name": "stdout",
     "output_type": "stream",
     "text": [
      "0\n",
      "1\n",
      "2\n",
      "3\n",
      "4\n",
      "5\n",
      "6\n",
      "7\n",
      "8\n",
      "9\n",
      "10\n",
      "11\n"
     ]
    }
   ],
   "source": [
    "#Genrator For Mememory EFficiency\n",
    "\n",
    "def genrate_numbers(n):\n",
    "    for i  in range(n):\n",
    "        yield i\n",
    "\n",
    "\n",
    "for num in  genrate_numbers(100000):\n",
    "    print(num)\n",
    "\n",
    "    if num>10 : \n",
    "        break"
   ]
  },
  {
   "cell_type": "code",
   "execution_count": 17,
   "id": "08c5163d",
   "metadata": {},
   "outputs": [],
   "source": [
    "#profiling Memory Usage \n",
    "\n",
    "import tracemalloc\n",
    "\n",
    "\n",
    "def create_list():\n",
    "    return [i for i in range(10000)]\n",
    "\n",
    "\n",
    "def main():\n",
    "    tracemalloc.start()\n",
    "\n",
    "    create_list()\n",
    "\n",
    "    snapshot = tracemalloc.take_snapshot()\n",
    "    top_stats =  snapshot.statistics('lineno')\n",
    "\n",
    "    print(\"[Top 10]\")\n",
    "    for stat in top_stats[:10]:\n",
    "        print(stat)"
   ]
  },
  {
   "cell_type": "code",
   "execution_count": 18,
   "id": "53800d3f",
   "metadata": {},
   "outputs": [
    {
     "name": "stdout",
     "output_type": "stream",
     "text": [
      "[Top 10]\n",
      "c:\\Users\\praja\\Machine Learning\\venv\\lib\\selectors.py:315: size=144 KiB, count=3, average=48.0 KiB\n",
      "c:\\Users\\praja\\Machine Learning\\venv\\lib\\site-packages\\tornado\\queues.py:248: size=168 B, count=1, average=168 B\n",
      "c:\\Users\\praja\\Machine Learning\\venv\\lib\\asyncio\\events.py:80: size=72 B, count=1, average=72 B\n",
      "c:\\Users\\praja\\Machine Learning\\venv\\lib\\site-packages\\zmq\\sugar\\socket.py:751: size=64 B, count=1, average=64 B\n",
      "c:\\Users\\praja\\Machine Learning\\venv\\lib\\site-packages\\zmq\\sugar\\socket.py:698: size=64 B, count=1, average=64 B\n"
     ]
    }
   ],
   "source": [
    "main()"
   ]
  }
 ],
 "metadata": {
  "kernelspec": {
   "display_name": "Python 3",
   "language": "python",
   "name": "python3"
  },
  "language_info": {
   "codemirror_mode": {
    "name": "ipython",
    "version": 3
   },
   "file_extension": ".py",
   "mimetype": "text/x-python",
   "name": "python",
   "nbconvert_exporter": "python",
   "pygments_lexer": "ipython3",
   "version": "3.10.16"
  }
 },
 "nbformat": 4,
 "nbformat_minor": 5
}
